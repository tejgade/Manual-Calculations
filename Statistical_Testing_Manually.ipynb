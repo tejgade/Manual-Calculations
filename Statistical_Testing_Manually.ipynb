{
 "cells": [
  {
   "cell_type": "code",
   "execution_count": 1,
   "metadata": {
    "colab": {
     "base_uri": "https://localhost:8080/",
     "height": 52
    },
    "colab_type": "code",
    "id": "e13LiOIxISc3",
    "outputId": "4c5b1cf0-be8c-4f7d-a3a2-ac5b53894921"
   },
   "outputs": [],
   "source": [
    "import numpy as np\n",
    "import pandas as pd\n",
    "from matplotlib import pyplot as plt\n",
    "%matplotlib inline\n",
    "import seaborn as sns\n",
    "from sklearn.linear_model import LinearRegression\n",
    "from sklearn.preprocessing import StandardScaler\n",
    "from sklearn import model_selection\n",
    "import scipy.stats as stats\n",
    "import statsmodels.formula.api as smf\n",
    "import statsmodels.api as sm\n",
    "import warnings\n",
    "warnings.filterwarnings('ignore')"
   ]
  },
  {
   "cell_type": "markdown",
   "metadata": {
    "colab_type": "text",
    "id": "_eNtvw-7Hx5x"
   },
   "source": [
    "# **Regression Problem Statistical Tests**"
   ]
  },
  {
   "cell_type": "markdown",
   "metadata": {
    "colab_type": "text",
    "id": "A4YZf14TwX93"
   },
   "source": [
    "A data frame with 32 observations on 11 (numeric) variables.\n",
    "\n",
    "1) mpg\tMiles/(US) gallon\n",
    "\n",
    "2)\tcyl\tNumber of cylinders\n",
    "\n",
    "3)\tdisp\tDisplacement (cu.in.)\n",
    "\n",
    "4) hp\tGross horsepower\n",
    "\n",
    "5)\tdrat\tRear axle ratio\n",
    "\n",
    "6)\twt\tWeight (1000 lbs)\n",
    "\n",
    "7)\tqsec\t1/4 mile time\n",
    "\n",
    "8)\tvs\tEngine (0 = V-shaped, 1 = straight)\n",
    "\n",
    "9)\tam\tTransmission (0 = automatic, 1 = manual)\n",
    "\n",
    "10)\tgear\tNumber of forward gears\n",
    "\n",
    "11)\tcarb\tNumber of carburetors"
   ]
  },
  {
   "cell_type": "code",
   "execution_count": 2,
   "metadata": {
    "colab": {
     "base_uri": "https://localhost:8080/",
     "height": 194
    },
    "colab_type": "code",
    "id": "NSI7bOXeKhNp",
    "outputId": "eac31be9-c4e0-4dc3-ee57-ecba98e1ab57"
   },
   "outputs": [
    {
     "data": {
      "text/html": [
       "<div>\n",
       "<style scoped>\n",
       "    .dataframe tbody tr th:only-of-type {\n",
       "        vertical-align: middle;\n",
       "    }\n",
       "\n",
       "    .dataframe tbody tr th {\n",
       "        vertical-align: top;\n",
       "    }\n",
       "\n",
       "    .dataframe thead th {\n",
       "        text-align: right;\n",
       "    }\n",
       "</style>\n",
       "<table border=\"1\" class=\"dataframe\">\n",
       "  <thead>\n",
       "    <tr style=\"text-align: right;\">\n",
       "      <th></th>\n",
       "      <th>model</th>\n",
       "      <th>mpg</th>\n",
       "      <th>cyl</th>\n",
       "      <th>disp</th>\n",
       "      <th>hp</th>\n",
       "      <th>drat</th>\n",
       "      <th>wt</th>\n",
       "      <th>qsec</th>\n",
       "      <th>vs</th>\n",
       "      <th>am</th>\n",
       "      <th>gear</th>\n",
       "      <th>carb</th>\n",
       "    </tr>\n",
       "  </thead>\n",
       "  <tbody>\n",
       "    <tr>\n",
       "      <td>0</td>\n",
       "      <td>Mazda RX4</td>\n",
       "      <td>21.0</td>\n",
       "      <td>6</td>\n",
       "      <td>160.0</td>\n",
       "      <td>110</td>\n",
       "      <td>3.90</td>\n",
       "      <td>2.620</td>\n",
       "      <td>16.46</td>\n",
       "      <td>0</td>\n",
       "      <td>1</td>\n",
       "      <td>4</td>\n",
       "      <td>4</td>\n",
       "    </tr>\n",
       "    <tr>\n",
       "      <td>1</td>\n",
       "      <td>Mazda RX4 Wag</td>\n",
       "      <td>21.0</td>\n",
       "      <td>6</td>\n",
       "      <td>160.0</td>\n",
       "      <td>110</td>\n",
       "      <td>3.90</td>\n",
       "      <td>2.875</td>\n",
       "      <td>17.02</td>\n",
       "      <td>0</td>\n",
       "      <td>1</td>\n",
       "      <td>4</td>\n",
       "      <td>4</td>\n",
       "    </tr>\n",
       "    <tr>\n",
       "      <td>2</td>\n",
       "      <td>Datsun 710</td>\n",
       "      <td>22.8</td>\n",
       "      <td>4</td>\n",
       "      <td>108.0</td>\n",
       "      <td>93</td>\n",
       "      <td>3.85</td>\n",
       "      <td>2.320</td>\n",
       "      <td>18.61</td>\n",
       "      <td>1</td>\n",
       "      <td>1</td>\n",
       "      <td>4</td>\n",
       "      <td>1</td>\n",
       "    </tr>\n",
       "    <tr>\n",
       "      <td>3</td>\n",
       "      <td>Hornet 4 Drive</td>\n",
       "      <td>21.4</td>\n",
       "      <td>6</td>\n",
       "      <td>258.0</td>\n",
       "      <td>110</td>\n",
       "      <td>3.08</td>\n",
       "      <td>3.215</td>\n",
       "      <td>19.44</td>\n",
       "      <td>1</td>\n",
       "      <td>0</td>\n",
       "      <td>3</td>\n",
       "      <td>1</td>\n",
       "    </tr>\n",
       "    <tr>\n",
       "      <td>4</td>\n",
       "      <td>Hornet Sportabout</td>\n",
       "      <td>18.7</td>\n",
       "      <td>8</td>\n",
       "      <td>360.0</td>\n",
       "      <td>175</td>\n",
       "      <td>3.15</td>\n",
       "      <td>3.440</td>\n",
       "      <td>17.02</td>\n",
       "      <td>0</td>\n",
       "      <td>0</td>\n",
       "      <td>3</td>\n",
       "      <td>2</td>\n",
       "    </tr>\n",
       "  </tbody>\n",
       "</table>\n",
       "</div>"
      ],
      "text/plain": [
       "               model   mpg  cyl   disp   hp  drat     wt   qsec  vs  am  gear  \\\n",
       "0          Mazda RX4  21.0    6  160.0  110  3.90  2.620  16.46   0   1     4   \n",
       "1      Mazda RX4 Wag  21.0    6  160.0  110  3.90  2.875  17.02   0   1     4   \n",
       "2         Datsun 710  22.8    4  108.0   93  3.85  2.320  18.61   1   1     4   \n",
       "3     Hornet 4 Drive  21.4    6  258.0  110  3.08  3.215  19.44   1   0     3   \n",
       "4  Hornet Sportabout  18.7    8  360.0  175  3.15  3.440  17.02   0   0     3   \n",
       "\n",
       "   carb  \n",
       "0     4  \n",
       "1     4  \n",
       "2     1  \n",
       "3     1  \n",
       "4     2  "
      ]
     },
     "execution_count": 2,
     "metadata": {},
     "output_type": "execute_result"
    }
   ],
   "source": [
    "A  = pd.read_csv('mtcars.csv')\n",
    "A.head()"
   ]
  },
  {
   "cell_type": "code",
   "execution_count": 3,
   "metadata": {
    "colab": {
     "base_uri": "https://localhost:8080/",
     "height": 390
    },
    "colab_type": "code",
    "id": "LznxVc90KnPk",
    "outputId": "bd078e63-e35b-4176-a743-bb763c7e3b82"
   },
   "outputs": [
    {
     "data": {
      "text/html": [
       "<div>\n",
       "<style scoped>\n",
       "    .dataframe tbody tr th:only-of-type {\n",
       "        vertical-align: middle;\n",
       "    }\n",
       "\n",
       "    .dataframe tbody tr th {\n",
       "        vertical-align: top;\n",
       "    }\n",
       "\n",
       "    .dataframe thead th {\n",
       "        text-align: right;\n",
       "    }\n",
       "</style>\n",
       "<table border=\"1\" class=\"dataframe\">\n",
       "  <thead>\n",
       "    <tr style=\"text-align: right;\">\n",
       "      <th></th>\n",
       "      <th>mpg</th>\n",
       "      <th>cyl</th>\n",
       "      <th>disp</th>\n",
       "      <th>hp</th>\n",
       "      <th>drat</th>\n",
       "      <th>wt</th>\n",
       "      <th>qsec</th>\n",
       "      <th>vs</th>\n",
       "      <th>am</th>\n",
       "      <th>gear</th>\n",
       "      <th>carb</th>\n",
       "    </tr>\n",
       "  </thead>\n",
       "  <tbody>\n",
       "    <tr>\n",
       "      <td>mpg</td>\n",
       "      <td>1.000000</td>\n",
       "      <td>-0.852162</td>\n",
       "      <td>-0.847551</td>\n",
       "      <td>-0.776168</td>\n",
       "      <td>0.681172</td>\n",
       "      <td>-0.867659</td>\n",
       "      <td>0.418684</td>\n",
       "      <td>0.664039</td>\n",
       "      <td>0.599832</td>\n",
       "      <td>0.480285</td>\n",
       "      <td>-0.550925</td>\n",
       "    </tr>\n",
       "    <tr>\n",
       "      <td>cyl</td>\n",
       "      <td>-0.852162</td>\n",
       "      <td>1.000000</td>\n",
       "      <td>0.902033</td>\n",
       "      <td>0.832447</td>\n",
       "      <td>-0.699938</td>\n",
       "      <td>0.782496</td>\n",
       "      <td>-0.591242</td>\n",
       "      <td>-0.810812</td>\n",
       "      <td>-0.522607</td>\n",
       "      <td>-0.492687</td>\n",
       "      <td>0.526988</td>\n",
       "    </tr>\n",
       "    <tr>\n",
       "      <td>disp</td>\n",
       "      <td>-0.847551</td>\n",
       "      <td>0.902033</td>\n",
       "      <td>1.000000</td>\n",
       "      <td>0.790949</td>\n",
       "      <td>-0.710214</td>\n",
       "      <td>0.887980</td>\n",
       "      <td>-0.433698</td>\n",
       "      <td>-0.710416</td>\n",
       "      <td>-0.591227</td>\n",
       "      <td>-0.555569</td>\n",
       "      <td>0.394977</td>\n",
       "    </tr>\n",
       "    <tr>\n",
       "      <td>hp</td>\n",
       "      <td>-0.776168</td>\n",
       "      <td>0.832447</td>\n",
       "      <td>0.790949</td>\n",
       "      <td>1.000000</td>\n",
       "      <td>-0.448759</td>\n",
       "      <td>0.658748</td>\n",
       "      <td>-0.708223</td>\n",
       "      <td>-0.723097</td>\n",
       "      <td>-0.243204</td>\n",
       "      <td>-0.125704</td>\n",
       "      <td>0.749812</td>\n",
       "    </tr>\n",
       "    <tr>\n",
       "      <td>drat</td>\n",
       "      <td>0.681172</td>\n",
       "      <td>-0.699938</td>\n",
       "      <td>-0.710214</td>\n",
       "      <td>-0.448759</td>\n",
       "      <td>1.000000</td>\n",
       "      <td>-0.712441</td>\n",
       "      <td>0.091205</td>\n",
       "      <td>0.440278</td>\n",
       "      <td>0.712711</td>\n",
       "      <td>0.699610</td>\n",
       "      <td>-0.090790</td>\n",
       "    </tr>\n",
       "    <tr>\n",
       "      <td>wt</td>\n",
       "      <td>-0.867659</td>\n",
       "      <td>0.782496</td>\n",
       "      <td>0.887980</td>\n",
       "      <td>0.658748</td>\n",
       "      <td>-0.712441</td>\n",
       "      <td>1.000000</td>\n",
       "      <td>-0.174716</td>\n",
       "      <td>-0.554916</td>\n",
       "      <td>-0.692495</td>\n",
       "      <td>-0.583287</td>\n",
       "      <td>0.427606</td>\n",
       "    </tr>\n",
       "    <tr>\n",
       "      <td>qsec</td>\n",
       "      <td>0.418684</td>\n",
       "      <td>-0.591242</td>\n",
       "      <td>-0.433698</td>\n",
       "      <td>-0.708223</td>\n",
       "      <td>0.091205</td>\n",
       "      <td>-0.174716</td>\n",
       "      <td>1.000000</td>\n",
       "      <td>0.744535</td>\n",
       "      <td>-0.229861</td>\n",
       "      <td>-0.212682</td>\n",
       "      <td>-0.656249</td>\n",
       "    </tr>\n",
       "    <tr>\n",
       "      <td>vs</td>\n",
       "      <td>0.664039</td>\n",
       "      <td>-0.810812</td>\n",
       "      <td>-0.710416</td>\n",
       "      <td>-0.723097</td>\n",
       "      <td>0.440278</td>\n",
       "      <td>-0.554916</td>\n",
       "      <td>0.744535</td>\n",
       "      <td>1.000000</td>\n",
       "      <td>0.168345</td>\n",
       "      <td>0.206023</td>\n",
       "      <td>-0.569607</td>\n",
       "    </tr>\n",
       "    <tr>\n",
       "      <td>am</td>\n",
       "      <td>0.599832</td>\n",
       "      <td>-0.522607</td>\n",
       "      <td>-0.591227</td>\n",
       "      <td>-0.243204</td>\n",
       "      <td>0.712711</td>\n",
       "      <td>-0.692495</td>\n",
       "      <td>-0.229861</td>\n",
       "      <td>0.168345</td>\n",
       "      <td>1.000000</td>\n",
       "      <td>0.794059</td>\n",
       "      <td>0.057534</td>\n",
       "    </tr>\n",
       "    <tr>\n",
       "      <td>gear</td>\n",
       "      <td>0.480285</td>\n",
       "      <td>-0.492687</td>\n",
       "      <td>-0.555569</td>\n",
       "      <td>-0.125704</td>\n",
       "      <td>0.699610</td>\n",
       "      <td>-0.583287</td>\n",
       "      <td>-0.212682</td>\n",
       "      <td>0.206023</td>\n",
       "      <td>0.794059</td>\n",
       "      <td>1.000000</td>\n",
       "      <td>0.274073</td>\n",
       "    </tr>\n",
       "    <tr>\n",
       "      <td>carb</td>\n",
       "      <td>-0.550925</td>\n",
       "      <td>0.526988</td>\n",
       "      <td>0.394977</td>\n",
       "      <td>0.749812</td>\n",
       "      <td>-0.090790</td>\n",
       "      <td>0.427606</td>\n",
       "      <td>-0.656249</td>\n",
       "      <td>-0.569607</td>\n",
       "      <td>0.057534</td>\n",
       "      <td>0.274073</td>\n",
       "      <td>1.000000</td>\n",
       "    </tr>\n",
       "  </tbody>\n",
       "</table>\n",
       "</div>"
      ],
      "text/plain": [
       "           mpg       cyl      disp        hp      drat        wt      qsec  \\\n",
       "mpg   1.000000 -0.852162 -0.847551 -0.776168  0.681172 -0.867659  0.418684   \n",
       "cyl  -0.852162  1.000000  0.902033  0.832447 -0.699938  0.782496 -0.591242   \n",
       "disp -0.847551  0.902033  1.000000  0.790949 -0.710214  0.887980 -0.433698   \n",
       "hp   -0.776168  0.832447  0.790949  1.000000 -0.448759  0.658748 -0.708223   \n",
       "drat  0.681172 -0.699938 -0.710214 -0.448759  1.000000 -0.712441  0.091205   \n",
       "wt   -0.867659  0.782496  0.887980  0.658748 -0.712441  1.000000 -0.174716   \n",
       "qsec  0.418684 -0.591242 -0.433698 -0.708223  0.091205 -0.174716  1.000000   \n",
       "vs    0.664039 -0.810812 -0.710416 -0.723097  0.440278 -0.554916  0.744535   \n",
       "am    0.599832 -0.522607 -0.591227 -0.243204  0.712711 -0.692495 -0.229861   \n",
       "gear  0.480285 -0.492687 -0.555569 -0.125704  0.699610 -0.583287 -0.212682   \n",
       "carb -0.550925  0.526988  0.394977  0.749812 -0.090790  0.427606 -0.656249   \n",
       "\n",
       "            vs        am      gear      carb  \n",
       "mpg   0.664039  0.599832  0.480285 -0.550925  \n",
       "cyl  -0.810812 -0.522607 -0.492687  0.526988  \n",
       "disp -0.710416 -0.591227 -0.555569  0.394977  \n",
       "hp   -0.723097 -0.243204 -0.125704  0.749812  \n",
       "drat  0.440278  0.712711  0.699610 -0.090790  \n",
       "wt   -0.554916 -0.692495 -0.583287  0.427606  \n",
       "qsec  0.744535 -0.229861 -0.212682 -0.656249  \n",
       "vs    1.000000  0.168345  0.206023 -0.569607  \n",
       "am    0.168345  1.000000  0.794059  0.057534  \n",
       "gear  0.206023  0.794059  1.000000  0.274073  \n",
       "carb -0.569607  0.057534  0.274073  1.000000  "
      ]
     },
     "execution_count": 3,
     "metadata": {},
     "output_type": "execute_result"
    }
   ],
   "source": [
    "A.corr()"
   ]
  },
  {
   "cell_type": "code",
   "execution_count": null,
   "metadata": {
    "colab": {},
    "colab_type": "code",
    "id": "6U9TDaYeUHN0"
   },
   "outputs": [],
   "source": []
  },
  {
   "cell_type": "markdown",
   "metadata": {
    "colab_type": "text",
    "id": "xocAOHd7XklW"
   },
   "source": [
    "### STATISTICAL Testing: \n",
    "\n",
    "We will manually check if the the poorly correlated features should be included in the model of not"
   ]
  },
  {
   "cell_type": "code",
   "execution_count": null,
   "metadata": {
    "colab": {},
    "colab_type": "code",
    "id": "bhrz6BjvXl9w"
   },
   "outputs": [],
   "source": [
    "#First let's start with 'am' which stands for automatic or manual transmission. 1 is manual and 0 is automatic, we will be doing a Two-sample t-test\n",
    "#Method 1: Using Logical Index\n",
    "\n",
    "am_0 = A['mpg'][A['am'] == 0]\n",
    "am_1 = A['mpg'][A['am'] == 1]"
   ]
  },
  {
   "cell_type": "code",
   "execution_count": null,
   "metadata": {
    "colab": {},
    "colab_type": "code",
    "id": "AtKt7YY7X7Ed"
   },
   "outputs": [],
   "source": [
    "from scipy import stats"
   ]
  },
  {
   "cell_type": "code",
   "execution_count": null,
   "metadata": {
    "colab": {
     "base_uri": "https://localhost:8080/",
     "height": 34
    },
    "colab_type": "code",
    "id": "myWtWcM_YGdW",
    "outputId": "0e66442e-d69a-4935-8a11-346a269c9d0d"
   },
   "outputs": [
    {
     "data": {
      "text/plain": [
       "Ttest_indResult(statistic=-4.106126983100689, pvalue=0.0002850207439350686)"
      ]
     },
     "execution_count": 9,
     "metadata": {
      "tags": []
     },
     "output_type": "execute_result"
    }
   ],
   "source": [
    "stats.ttest_ind(am_0, am_1)"
   ]
  },
  {
   "cell_type": "markdown",
   "metadata": {
    "colab_type": "text",
    "id": "X8xq0nULY5oK"
   },
   "source": [
    "**Method 2** \n",
    "\n",
    "Using GroupBy"
   ]
  },
  {
   "cell_type": "code",
   "execution_count": null,
   "metadata": {
    "colab": {},
    "colab_type": "code",
    "id": "fMiBtmrEZBcQ"
   },
   "outputs": [],
   "source": [
    "A_am = A.groupby('am')"
   ]
  },
  {
   "cell_type": "code",
   "execution_count": null,
   "metadata": {
    "colab": {},
    "colab_type": "code",
    "id": "9fZ0XsStZLOm"
   },
   "outputs": [],
   "source": [
    "df_am0 = A_am.get_group(0)\n",
    "df_am1 = A_am.get_group(1)"
   ]
  },
  {
   "cell_type": "code",
   "execution_count": null,
   "metadata": {
    "colab": {
     "base_uri": "https://localhost:8080/",
     "height": 34
    },
    "colab_type": "code",
    "id": "rwrejoHyZRyX",
    "outputId": "064fa399-3cc4-413a-c6e3-064472e00fc8"
   },
   "outputs": [
    {
     "data": {
      "text/plain": [
       "((19, 12), (13, 12))"
      ]
     },
     "execution_count": 12,
     "metadata": {
      "tags": []
     },
     "output_type": "execute_result"
    }
   ],
   "source": [
    "df_am0.shape, df_am1.shape"
   ]
  },
  {
   "cell_type": "code",
   "execution_count": null,
   "metadata": {
    "colab": {
     "base_uri": "https://localhost:8080/",
     "height": 34
    },
    "colab_type": "code",
    "id": "n2I9Y3IRZoBC",
    "outputId": "dd585547-0f54-47c4-8992-ad5c15ff1873"
   },
   "outputs": [
    {
     "data": {
      "text/plain": [
       "17.147368421052633"
      ]
     },
     "execution_count": 13,
     "metadata": {
      "tags": []
     },
     "output_type": "execute_result"
    }
   ],
   "source": [
    "#First Let's check the numerical difference\n",
    "\n",
    "df_am0['mpg'].mean()"
   ]
  },
  {
   "cell_type": "code",
   "execution_count": null,
   "metadata": {
    "colab": {
     "base_uri": "https://localhost:8080/",
     "height": 34
    },
    "colab_type": "code",
    "id": "NqkHEkPtZvaW",
    "outputId": "0b0fc0ea-4857-415f-9db0-166720b76df6"
   },
   "outputs": [
    {
     "data": {
      "text/plain": [
       "24.39230769230769"
      ]
     },
     "execution_count": 14,
     "metadata": {
      "tags": []
     },
     "output_type": "execute_result"
    }
   ],
   "source": [
    "df_am1['mpg'].mean()"
   ]
  },
  {
   "cell_type": "code",
   "execution_count": null,
   "metadata": {
    "colab": {
     "base_uri": "https://localhost:8080/",
     "height": 279
    },
    "colab_type": "code",
    "id": "ryGZ0LiYs_tW",
    "outputId": "17539912-7866-42f6-f390-06c4b3032a40"
   },
   "outputs": [
    {
     "data": {
      "image/png": "[encoded data removed]",
      "text/plain": [
       "<Figure size 432x288 with 1 Axes>"
      ]
     },
     "metadata": {
      "needs_background": "light",
      "tags": []
     },
     "output_type": "display_data"
    }
   ],
   "source": [
    "sns.distplot(df_am0['mpg'], hist = False)\n",
    "plt.show()"
   ]
  },
  {
   "cell_type": "code",
   "execution_count": null,
   "metadata": {
    "colab": {
     "base_uri": "https://localhost:8080/",
     "height": 279
    },
    "colab_type": "code",
    "id": "ywfbT-4suDk5",
    "outputId": "6e3f5bad-73c4-4ddc-bc8e-e248391fe7e3"
   },
   "outputs": [
    {
     "data": {
      "image/png": "[encoded data removed]",
      "text/plain": [
       "<Figure size 432x288 with 1 Axes>"
      ]
     },
     "metadata": {
      "needs_background": "light",
      "tags": []
     },
     "output_type": "display_data"
    }
   ],
   "source": [
    "sns.distplot(df_am1['mpg'], hist = False)\n",
    "plt.show()"
   ]
  },
  {
   "cell_type": "markdown",
   "metadata": {
    "colab_type": "text",
    "id": "cl6M6Ky7ZzzL"
   },
   "source": [
    "Numerically there is difference in the mean of the data. df_am0 is for automatic cars and df_am1 is for manual cars and we can see that manual cars mpg is higher than automatic cars.  Now, we need to prove it statiscally by performing a two-sample t-test.\n",
    "\n",
    "\n",
    "H0: Mean_MPG(auto) = Mean_MPG(manual)\n",
    "\n",
    "H1: Mean_MPG(auto) != Mean_MPG(manual)\n",
    "\n",
    "Significant level of 0.05"
   ]
  },
  {
   "cell_type": "code",
   "execution_count": null,
   "metadata": {
    "colab": {
     "base_uri": "https://localhost:8080/",
     "height": 34
    },
    "colab_type": "code",
    "id": "rBw0YHIKZVMU",
    "outputId": "c257833e-8486-4bc8-9111-59a68061efb9"
   },
   "outputs": [
    {
     "data": {
      "text/plain": [
       "Ttest_indResult(statistic=-4.106126983100689, pvalue=0.0002850207439350686)"
      ]
     },
     "execution_count": 15,
     "metadata": {
      "tags": []
     },
     "output_type": "execute_result"
    }
   ],
   "source": [
    "stats.ttest_ind(df_am0['mpg'], df_am1['mpg'])"
   ]
  },
  {
   "cell_type": "markdown",
   "metadata": {
    "colab_type": "text",
    "id": "7aD2iDFta-Bb"
   },
   "source": [
    "**Interpretation**\n",
    "\n",
    "Since the p-value (0.000285) < alpha (0.05) We reject the null hypothesis. State that the mean mpg for automatic and manual is not the same and we have to include the variable 'am' in our model. So variable 'am' can be a potential variable to predict mpg.   "
   ]
  },
  {
   "cell_type": "code",
   "execution_count": null,
   "metadata": {
    "colab": {},
    "colab_type": "code",
    "id": "7J2jCgd6ZaDx"
   },
   "outputs": [],
   "source": []
  },
  {
   "cell_type": "code",
   "execution_count": null,
   "metadata": {
    "colab": {},
    "colab_type": "code",
    "id": "dSDNCBt4bvFJ"
   },
   "outputs": [],
   "source": []
  },
  {
   "cell_type": "markdown",
   "metadata": {
    "colab_type": "text",
    "id": "BAIQxpe2bvgv"
   },
   "source": [
    "## Check variable 'vs'\n",
    "\n",
    "Variable 'vs' represents the engine shape, we want to see if the engine shape matters in the mpg, vs = 1 (straight-line enginer) and vs = 0 (v-shape engine)."
   ]
  },
  {
   "cell_type": "code",
   "execution_count": null,
   "metadata": {
    "colab": {},
    "colab_type": "code",
    "id": "_M5xkMfzcAML"
   },
   "outputs": [],
   "source": [
    "#Groupby Method\n",
    "\n",
    "A_vs = A.groupby('vs')"
   ]
  },
  {
   "cell_type": "code",
   "execution_count": null,
   "metadata": {
    "colab": {},
    "colab_type": "code",
    "id": "wiXiomf4ccqK"
   },
   "outputs": [],
   "source": [
    "df_vs0 = A_vs.get_group(0)\n",
    "df_vs1 = A_vs.get_group(1)"
   ]
  },
  {
   "cell_type": "code",
   "execution_count": null,
   "metadata": {
    "colab": {
     "base_uri": "https://localhost:8080/",
     "height": 34
    },
    "colab_type": "code",
    "id": "RV0ynrESciPT",
    "outputId": "1ec4407c-d49b-429b-ffcc-e265658a040b"
   },
   "outputs": [
    {
     "data": {
      "text/plain": [
       "Ttest_indResult(statistic=-4.864384956122782, pvalue=3.415937254419951e-05)"
      ]
     },
     "execution_count": 18,
     "metadata": {
      "tags": []
     },
     "output_type": "execute_result"
    }
   ],
   "source": [
    "stats.ttest_ind(df_vs0['mpg'],df_vs1['mpg'])"
   ]
  },
  {
   "cell_type": "markdown",
   "metadata": {
    "colab_type": "text",
    "id": "sPqh4Luccw3f"
   },
   "source": [
    "P-value 3.41 e-05< Alpha (0.05), we can safely reject the null hypothesis and conclude that the mean of engine cyclinder configuration are statistically different and we need to included the variable 'vs' in the model."
   ]
  },
  {
   "cell_type": "code",
   "execution_count": null,
   "metadata": {
    "colab": {},
    "colab_type": "code",
    "id": "F8AUqlz_dEDg"
   },
   "outputs": [],
   "source": []
  },
  {
   "cell_type": "code",
   "execution_count": null,
   "metadata": {
    "colab": {},
    "colab_type": "code",
    "id": "G3ySDz1rdbuy"
   },
   "outputs": [],
   "source": []
  },
  {
   "cell_type": "markdown",
   "metadata": {
    "colab_type": "text",
    "id": "QTkNjiyhdkcq"
   },
   "source": [
    "## Check variable Gear"
   ]
  },
  {
   "cell_type": "code",
   "execution_count": null,
   "metadata": {
    "colab": {
     "base_uri": "https://localhost:8080/",
     "height": 85
    },
    "colab_type": "code",
    "id": "_tFmooE9dmjn",
    "outputId": "dafb40f1-d068-40f9-82cc-d3cd8f3af670"
   },
   "outputs": [
    {
     "data": {
      "text/plain": [
       "3    15\n",
       "4    12\n",
       "5     5\n",
       "Name: gear, dtype: int64"
      ]
     },
     "execution_count": 19,
     "metadata": {
      "tags": []
     },
     "output_type": "execute_result"
    }
   ],
   "source": [
    "A['gear'].value_counts()\n",
    "\n",
    "#Total of 3 group, we will be using ANOVA test to statistcally test if the means are difference between these 3 groups"
   ]
  },
  {
   "cell_type": "code",
   "execution_count": null,
   "metadata": {
    "colab": {},
    "colab_type": "code",
    "id": "3WTl61kpdpKM"
   },
   "outputs": [],
   "source": [
    "A_gear = A.groupby('gear')"
   ]
  },
  {
   "cell_type": "code",
   "execution_count": null,
   "metadata": {
    "colab": {},
    "colab_type": "code",
    "id": "v93LCBXYd3p3"
   },
   "outputs": [],
   "source": [
    "df_gear3 = A_gear.get_group(3)\n",
    "df_gear4 = A_gear.get_group(4)\n",
    "df_gear5 = A_gear.get_group(5)\n"
   ]
  },
  {
   "cell_type": "code",
   "execution_count": null,
   "metadata": {
    "colab": {
     "base_uri": "https://localhost:8080/",
     "height": 34
    },
    "colab_type": "code",
    "id": "ph9pgTQheAbn",
    "outputId": "f02d7212-9313-4f82-e2e8-d28cc23a6bd0"
   },
   "outputs": [
    {
     "data": {
      "text/plain": [
       "F_onewayResult(statistic=10.900719688660931, pvalue=0.00029482799285719474)"
      ]
     },
     "execution_count": 22,
     "metadata": {
      "tags": []
     },
     "output_type": "execute_result"
    }
   ],
   "source": [
    "stats.f_oneway(df_gear3['mpg'], df_gear4['mpg'], df_gear5['mpg'])"
   ]
  },
  {
   "cell_type": "markdown",
   "metadata": {
    "colab_type": "text",
    "id": "7ATp4hNXeNk5"
   },
   "source": [
    "Reject the null hypothesis, which tells us that the means are different and we have to included this variable in our analysis. "
   ]
  },
  {
   "cell_type": "code",
   "execution_count": null,
   "metadata": {
    "colab": {},
    "colab_type": "code",
    "id": "LVVaFBl-eW9d"
   },
   "outputs": [],
   "source": []
  },
  {
   "cell_type": "markdown",
   "metadata": {
    "colab_type": "text",
    "id": "kUhvh8nheYfJ"
   },
   "source": [
    "##  Check Variable 'carb'"
   ]
  },
  {
   "cell_type": "code",
   "execution_count": null,
   "metadata": {
    "colab": {
     "base_uri": "https://localhost:8080/",
     "height": 136
    },
    "colab_type": "code",
    "id": "uRanUlRWec5f",
    "outputId": "de61cd5f-8430-48a0-9e49-715c6d398ccf"
   },
   "outputs": [
    {
     "data": {
      "text/plain": [
       "4    10\n",
       "2    10\n",
       "1     7\n",
       "3     3\n",
       "8     1\n",
       "6     1\n",
       "Name: carb, dtype: int64"
      ]
     },
     "execution_count": 23,
     "metadata": {
      "tags": []
     },
     "output_type": "execute_result"
    }
   ],
   "source": [
    "A['carb'].value_counts()"
   ]
  },
  {
   "cell_type": "code",
   "execution_count": null,
   "metadata": {
    "colab": {},
    "colab_type": "code",
    "id": "Uyrmc4MXefDr"
   },
   "outputs": [],
   "source": [
    "A_carb = A.groupby('carb')"
   ]
  },
  {
   "cell_type": "code",
   "execution_count": null,
   "metadata": {
    "colab": {},
    "colab_type": "code",
    "id": "cYCBtiIWenJM"
   },
   "outputs": [],
   "source": [
    "df_carb0 = A_carb.get_group(4)\n",
    "df_carb1 = A_carb.get_group(2)\n",
    "df_carb2 = A_carb.get_group(1)\n",
    "df_carb3 = A_carb.get_group(3)\n",
    "df_carb4 = A_carb.get_group(8)\n",
    "df_carb5 = A_carb.get_group(6)"
   ]
  },
  {
   "cell_type": "code",
   "execution_count": null,
   "metadata": {
    "colab": {
     "base_uri": "https://localhost:8080/",
     "height": 34
    },
    "colab_type": "code",
    "id": "kxE3etFPeomt",
    "outputId": "6ce3eb8b-5e49-4447-cc9a-50a5741cb76c"
   },
   "outputs": [
    {
     "data": {
      "text/plain": [
       "F_onewayResult(statistic=4.161431011489805, pvalue=0.006546174801270258)"
      ]
     },
     "execution_count": 26,
     "metadata": {
      "tags": []
     },
     "output_type": "execute_result"
    }
   ],
   "source": [
    "stats.f_oneway(df_carb0['mpg'],df_carb1['mpg'],df_carb2['mpg'],df_carb3['mpg'],df_carb4['mpg'],df_carb5['mpg'])"
   ]
  },
  {
   "cell_type": "markdown",
   "metadata": {
    "colab_type": "text",
    "id": "3Zu-RBcvf4K-"
   },
   "source": [
    "Reject the null hypothesis and we can safely conclude that carb is also needed to be in the model. "
   ]
  },
  {
   "cell_type": "code",
   "execution_count": null,
   "metadata": {
    "colab": {},
    "colab_type": "code",
    "id": "-eY7lwmKrORT"
   },
   "outputs": [],
   "source": []
  },
  {
   "cell_type": "markdown",
   "metadata": {
    "colab_type": "text",
    "id": "sbpjjB1FrPkN"
   },
   "source": [
    "# Levene Test"
   ]
  },
  {
   "cell_type": "markdown",
   "metadata": {
    "colab_type": "text",
    "id": "bDst_kDzhgOf"
   },
   "source": [
    "**Check disp, hp, drat, wt, qsec**\n",
    "\n",
    "LEVENE Test: Because Displacement (disp), Horsepower (hp), Rear Axel Ratio (drat), Weight (wt), Quarter Mile Performance (qsec) are ALL continuous features we can simply do a levene test. \n",
    "\n",
    "H0: Mean_MPG = Mean_Disp\n",
    "\n",
    "H1: Mean_MPG != Mean_Disp \n",
    "\n",
    "and so and so forth for hp, drat, wt, and qsec"
   ]
  },
  {
   "cell_type": "code",
   "execution_count": null,
   "metadata": {
    "colab": {
     "base_uri": "https://localhost:8080/",
     "height": 102
    },
    "colab_type": "code",
    "id": "w5L_eB0ohsNQ",
    "outputId": "37d5ce0e-de93-485b-d92d-ebbdc8ac9f4c"
   },
   "outputs": [
    {
     "name": "stdout",
     "output_type": "stream",
     "text": [
      "LeveneResult(statistic=77.24492658587923, pvalue=1.7125313376965402e-12)\n",
      "LeveneResult(statistic=37.36520247187284, pvalue=7.171767125289592e-08)\n",
      "LeveneResult(statistic=37.267914042270355, pvalue=7.398463502218914e-08)\n",
      "LeveneResult(statistic=31.69030093574528, pvalue=4.661995109407837e-07)\n",
      "LeveneResult(statistic=20.94643539498785, pvalue=2.3228981865792168e-05)\n"
     ]
    }
   ],
   "source": [
    "print(stats.levene(A['mpg'], A['disp']))\n",
    "print(stats.levene(A['mpg'], A['hp']))\n",
    "print(stats.levene(A['mpg'], A['drat']))\n",
    "print(stats.levene(A['mpg'], A['wt']))\n",
    "print(stats.levene(A['mpg'], A['qsec']))"
   ]
  },
  {
   "cell_type": "markdown",
   "metadata": {
    "colab_type": "text",
    "id": "lOMitt3pivVV"
   },
   "source": [
    "All the variable are statistically significant as the p-value for all the variables is less than alpha (0.05). We can safely reject the null hypothesis and conclude the means are statistically significant "
   ]
  },
  {
   "cell_type": "code",
   "execution_count": null,
   "metadata": {
    "colab": {},
    "colab_type": "code",
    "id": "AEXWkVe9jEbF"
   },
   "outputs": [],
   "source": []
  },
  {
   "cell_type": "markdown",
   "metadata": {
    "colab_type": "text",
    "id": "SWX70T9hjT4r"
   },
   "source": [
    "**Check if Cyclinder is Significant**"
   ]
  },
  {
   "cell_type": "code",
   "execution_count": null,
   "metadata": {
    "colab": {
     "base_uri": "https://localhost:8080/",
     "height": 85
    },
    "colab_type": "code",
    "id": "D0HslMAxjVR-",
    "outputId": "bbd80b14-52ec-4777-b850-343008880ae5"
   },
   "outputs": [
    {
     "data": {
      "text/plain": [
       "8    14\n",
       "4    11\n",
       "6     7\n",
       "Name: cyl, dtype: int64"
      ]
     },
     "execution_count": 28,
     "metadata": {
      "tags": []
     },
     "output_type": "execute_result"
    }
   ],
   "source": [
    "A['cyl'].value_counts()"
   ]
  },
  {
   "cell_type": "code",
   "execution_count": null,
   "metadata": {
    "colab": {},
    "colab_type": "code",
    "id": "Pp4Uaoc3jZBZ"
   },
   "outputs": [],
   "source": [
    "A_cyl = A.groupby('cyl')"
   ]
  },
  {
   "cell_type": "code",
   "execution_count": null,
   "metadata": {
    "colab": {},
    "colab_type": "code",
    "id": "-g3IlAosjdtE"
   },
   "outputs": [],
   "source": [
    "df_cyl0 = A_cyl.get_group(8)\n",
    "df_cyl1 = A_cyl.get_group(4)\n",
    "df_cyl2 = A_cyl.get_group(6)\n"
   ]
  },
  {
   "cell_type": "code",
   "execution_count": null,
   "metadata": {
    "colab": {
     "base_uri": "https://localhost:8080/",
     "height": 34
    },
    "colab_type": "code",
    "id": "6bJqSw6ojnuR",
    "outputId": "72f2988b-a3da-4001-d7b7-8e398e71af24"
   },
   "outputs": [
    {
     "data": {
      "text/plain": [
       "F_onewayResult(statistic=39.69751525586905, pvalue=4.978919174400188e-09)"
      ]
     },
     "execution_count": 31,
     "metadata": {
      "tags": []
     },
     "output_type": "execute_result"
    }
   ],
   "source": [
    "stats.f_oneway(df_cyl0['mpg'],df_cyl1['mpg'],df_cyl2['mpg'])"
   ]
  },
  {
   "cell_type": "markdown",
   "metadata": {
    "colab_type": "text",
    "id": "WRdQcegEj70v"
   },
   "source": [
    "Conclude that Cylinder is also a signifant feature for the mode. P-value < alpha. We can reject the null hypothesis. "
   ]
  },
  {
   "cell_type": "code",
   "execution_count": null,
   "metadata": {
    "colab": {},
    "colab_type": "code",
    "id": "pO1ax6smjwUy"
   },
   "outputs": [],
   "source": []
  },
  {
   "cell_type": "markdown",
   "metadata": {
    "colab_type": "text",
    "id": "KzOahuJbD6O5"
   },
   "source": [
    "Typically for a Regression problem in order to check if the independent variable is statiscally significant or not you need to perform one of three tests based values of the indepedent variables. Since the target variable (y) is always a continuous variable in a regression problems we only have these three tests.\n",
    "\n",
    "These 3 tests are: \n",
    "\n",
    "from scipy.stats import levene, ttttest_ind, f_oneway\n",
    "\n",
    "1.   Levene Test: One continuous vs One Continuous (Checks the variance)\n",
    "2.   Two-Sample T Test: One continous vs. Two Discrete values (Checks for Mean difference across two groups)\n",
    "3.   ANOVA: One continuous vs. 3 or more discrete values(Checks for Mean difference across multiple groups)\n",
    "\n",
    "\n",
    "**Note:**\n",
    "\n",
    "Although this process might seem laborious this exercise is done for practice. By doing a simple OLS summary these tests are automatically done by the algorithm. The purpose of this individual checking is to understand the backend operation. \n"
   ]
  },
  {
   "cell_type": "code",
   "execution_count": null,
   "metadata": {
    "colab": {},
    "colab_type": "code",
    "id": "4D6UJvo9ASFO"
   },
   "outputs": [],
   "source": []
  },
  {
   "cell_type": "code",
   "execution_count": null,
   "metadata": {
    "colab": {},
    "colab_type": "code",
    "id": "adduqzk8HirY"
   },
   "outputs": [],
   "source": []
  },
  {
   "cell_type": "markdown",
   "metadata": {
    "colab_type": "text",
    "id": "4hjCKKEqHlBe"
   },
   "source": [
    "# Classification Problem Statistical Tests"
   ]
  },
  {
   "cell_type": "code",
   "execution_count": 5,
   "metadata": {
    "colab": {
     "base_uri": "https://localhost:8080/",
     "height": 206
    },
    "colab_type": "code",
    "id": "aTyf6skUHt5m",
    "outputId": "5a8d88ad-1905-417f-e44c-95ce4afb9a8a"
   },
   "outputs": [
    {
     "data": {
      "text/html": [
       "<div>\n",
       "<style scoped>\n",
       "    .dataframe tbody tr th:only-of-type {\n",
       "        vertical-align: middle;\n",
       "    }\n",
       "\n",
       "    .dataframe tbody tr th {\n",
       "        vertical-align: top;\n",
       "    }\n",
       "\n",
       "    .dataframe thead th {\n",
       "        text-align: right;\n",
       "    }\n",
       "</style>\n",
       "<table border=\"1\" class=\"dataframe\">\n",
       "  <thead>\n",
       "    <tr style=\"text-align: right;\">\n",
       "      <th></th>\n",
       "      <th>Age</th>\n",
       "      <th>Attrition</th>\n",
       "      <th>BusinessTravel</th>\n",
       "      <th>DailyRate</th>\n",
       "      <th>Department</th>\n",
       "      <th>DistanceFromHome</th>\n",
       "      <th>Education</th>\n",
       "      <th>EducationField</th>\n",
       "      <th>EmployeeCount</th>\n",
       "      <th>EmployeeNumber</th>\n",
       "      <th>...</th>\n",
       "      <th>RelationshipSatisfaction</th>\n",
       "      <th>StandardHours</th>\n",
       "      <th>StockOptionLevel</th>\n",
       "      <th>TotalWorkingYears</th>\n",
       "      <th>TrainingTimesLastYear</th>\n",
       "      <th>WorkLifeBalance</th>\n",
       "      <th>YearsAtCompany</th>\n",
       "      <th>YearsInCurrentRole</th>\n",
       "      <th>YearsSinceLastPromotion</th>\n",
       "      <th>YearsWithCurrManager</th>\n",
       "    </tr>\n",
       "  </thead>\n",
       "  <tbody>\n",
       "    <tr>\n",
       "      <td>0</td>\n",
       "      <td>41</td>\n",
       "      <td>Yes</td>\n",
       "      <td>Travel_Rarely</td>\n",
       "      <td>1102</td>\n",
       "      <td>Sales</td>\n",
       "      <td>1</td>\n",
       "      <td>2</td>\n",
       "      <td>Life Sciences</td>\n",
       "      <td>1</td>\n",
       "      <td>1</td>\n",
       "      <td>...</td>\n",
       "      <td>1</td>\n",
       "      <td>80</td>\n",
       "      <td>0</td>\n",
       "      <td>8</td>\n",
       "      <td>0</td>\n",
       "      <td>1</td>\n",
       "      <td>6</td>\n",
       "      <td>4</td>\n",
       "      <td>0</td>\n",
       "      <td>5</td>\n",
       "    </tr>\n",
       "    <tr>\n",
       "      <td>1</td>\n",
       "      <td>49</td>\n",
       "      <td>No</td>\n",
       "      <td>Travel_Frequently</td>\n",
       "      <td>279</td>\n",
       "      <td>Research &amp; Development</td>\n",
       "      <td>8</td>\n",
       "      <td>1</td>\n",
       "      <td>Life Sciences</td>\n",
       "      <td>1</td>\n",
       "      <td>2</td>\n",
       "      <td>...</td>\n",
       "      <td>4</td>\n",
       "      <td>80</td>\n",
       "      <td>1</td>\n",
       "      <td>10</td>\n",
       "      <td>3</td>\n",
       "      <td>3</td>\n",
       "      <td>10</td>\n",
       "      <td>7</td>\n",
       "      <td>1</td>\n",
       "      <td>7</td>\n",
       "    </tr>\n",
       "    <tr>\n",
       "      <td>2</td>\n",
       "      <td>37</td>\n",
       "      <td>Yes</td>\n",
       "      <td>Travel_Rarely</td>\n",
       "      <td>1373</td>\n",
       "      <td>Research &amp; Development</td>\n",
       "      <td>2</td>\n",
       "      <td>2</td>\n",
       "      <td>Other</td>\n",
       "      <td>1</td>\n",
       "      <td>4</td>\n",
       "      <td>...</td>\n",
       "      <td>2</td>\n",
       "      <td>80</td>\n",
       "      <td>0</td>\n",
       "      <td>7</td>\n",
       "      <td>3</td>\n",
       "      <td>3</td>\n",
       "      <td>0</td>\n",
       "      <td>0</td>\n",
       "      <td>0</td>\n",
       "      <td>0</td>\n",
       "    </tr>\n",
       "  </tbody>\n",
       "</table>\n",
       "<p>3 rows × 35 columns</p>\n",
       "</div>"
      ],
      "text/plain": [
       "   Age Attrition     BusinessTravel  DailyRate              Department  \\\n",
       "0   41       Yes      Travel_Rarely       1102                   Sales   \n",
       "1   49        No  Travel_Frequently        279  Research & Development   \n",
       "2   37       Yes      Travel_Rarely       1373  Research & Development   \n",
       "\n",
       "   DistanceFromHome  Education EducationField  EmployeeCount  EmployeeNumber  \\\n",
       "0                 1          2  Life Sciences              1               1   \n",
       "1                 8          1  Life Sciences              1               2   \n",
       "2                 2          2          Other              1               4   \n",
       "\n",
       "   ...  RelationshipSatisfaction StandardHours  StockOptionLevel  \\\n",
       "0  ...                         1            80                 0   \n",
       "1  ...                         4            80                 1   \n",
       "2  ...                         2            80                 0   \n",
       "\n",
       "   TotalWorkingYears  TrainingTimesLastYear WorkLifeBalance  YearsAtCompany  \\\n",
       "0                  8                      0               1               6   \n",
       "1                 10                      3               3              10   \n",
       "2                  7                      3               3               0   \n",
       "\n",
       "  YearsInCurrentRole  YearsSinceLastPromotion  YearsWithCurrManager  \n",
       "0                  4                        0                     5  \n",
       "1                  7                        1                     7  \n",
       "2                  0                        0                     0  \n",
       "\n",
       "[3 rows x 35 columns]"
      ]
     },
     "execution_count": 5,
     "metadata": {},
     "output_type": "execute_result"
    }
   ],
   "source": [
    "df = pd.read_csv('HR_Employee_Attrition.csv')\n",
    "df.head(3)"
   ]
  },
  {
   "cell_type": "markdown",
   "metadata": {
    "colab_type": "text",
    "id": "-VtxGPC-JTga"
   },
   "source": [
    "### Insights: \n",
    "\n",
    "The Target Variable is Attrition in our HR dataset. We are trying to predict if the employee has left the company or not based on the following variables. Let's find out the statistically significant features."
   ]
  },
  {
   "cell_type": "markdown",
   "metadata": {
    "colab_type": "text",
    "id": "aRtBFQCVKaBz"
   },
   "source": [
    "**Age: Two-Sample T-Test**\n",
    "\n",
    "Age is continous variable and attrition is two discrete values"
   ]
  },
  {
   "cell_type": "code",
   "execution_count": 6,
   "metadata": {
    "colab": {},
    "colab_type": "code",
    "id": "LJbqf2GBJs8o"
   },
   "outputs": [],
   "source": [
    "df_at = df.groupby('Attrition')"
   ]
  },
  {
   "cell_type": "code",
   "execution_count": 7,
   "metadata": {
    "colab": {},
    "colab_type": "code",
    "id": "1O0oRFv4IRIL"
   },
   "outputs": [],
   "source": [
    "df_at1 = df_at.get_group('Yes')\n",
    "df_at0 = df_at.get_group('No')"
   ]
  },
  {
   "cell_type": "code",
   "execution_count": 8,
   "metadata": {
    "colab": {
     "base_uri": "https://localhost:8080/",
     "height": 51
    },
    "colab_type": "code",
    "id": "RwLdR5BLMHoQ",
    "outputId": "43d66db8-bd36-4573-8bb3-100e77e58632"
   },
   "outputs": [
    {
     "name": "stdout",
     "output_type": "stream",
     "text": [
      "Avg Age of Employees who left the organization: 33.607594936708864\n",
      "Avg Age of Employees who are with the organization: 37.561232765612324\n"
     ]
    }
   ],
   "source": [
    "print('Avg Age of Employees who left the organization:', df_at1['Age'].mean())\n",
    "print('Avg Age of Employees who are with the organization:', df_at0['Age'].mean())\n",
    "\n",
    "#Numerically the means are different now let's check statistically"
   ]
  },
  {
   "cell_type": "code",
   "execution_count": 9,
   "metadata": {
    "colab": {
     "base_uri": "https://localhost:8080/",
     "height": 34
    },
    "colab_type": "code",
    "id": "watoXycZJ6nd",
    "outputId": "e6001d80-19c2-4901-db0a-7d26cd0acce8"
   },
   "outputs": [
    {
     "data": {
      "text/plain": [
       "Ttest_indResult(statistic=-6.1786638353072165, pvalue=8.356308021103649e-10)"
      ]
     },
     "execution_count": 9,
     "metadata": {},
     "output_type": "execute_result"
    }
   ],
   "source": [
    "stats.ttest_ind(df_at1['Age'], df_at0['Age'])"
   ]
  },
  {
   "cell_type": "markdown",
   "metadata": {
    "colab_type": "text",
    "id": "BH9HigMBMhBS"
   },
   "source": [
    "P-value (8.35 e-10) < Alpha (0.05), We can safely reject the null hypothesis and conclude that Age is an important factor for the model."
   ]
  },
  {
   "cell_type": "code",
   "execution_count": null,
   "metadata": {
    "colab": {},
    "colab_type": "code",
    "id": "EYD7REasMww3"
   },
   "outputs": [],
   "source": []
  },
  {
   "cell_type": "markdown",
   "metadata": {
    "colab_type": "text",
    "id": "867Iyh-0Ke3d"
   },
   "source": [
    "**Gender: Two-sample Proportion Test**"
   ]
  },
  {
   "cell_type": "code",
   "execution_count": 10,
   "metadata": {
    "colab": {},
    "colab_type": "code",
    "id": "w0ZbhU2OIa3O"
   },
   "outputs": [],
   "source": [
    "df['Gender'].replace(to_replace = ['Male', 'Female'], value = [1,2], inplace = True) #Changing the values of Male as 1 and Female as 2"
   ]
  },
  {
   "cell_type": "markdown",
   "metadata": {
    "colab_type": "text",
    "id": "t4YJbF5-I79w"
   },
   "source": [
    "H0: Proportion of Male Leaving the organization = Proportion of Female leaving the organization\n",
    "\n",
    "H1: Proportion of Male Leaving the organization != Proportion of Female leaving the organization"
   ]
  },
  {
   "cell_type": "code",
   "execution_count": 11,
   "metadata": {
    "colab": {
     "base_uri": "https://localhost:8080/",
     "height": 142
    },
    "colab_type": "code",
    "id": "VAgKh26SKhHi",
    "outputId": "540592f8-1d0c-455f-eb8f-50a0792e50c7"
   },
   "outputs": [
    {
     "data": {
      "text/html": [
       "<div>\n",
       "<style scoped>\n",
       "    .dataframe tbody tr th:only-of-type {\n",
       "        vertical-align: middle;\n",
       "    }\n",
       "\n",
       "    .dataframe tbody tr th {\n",
       "        vertical-align: top;\n",
       "    }\n",
       "\n",
       "    .dataframe thead th {\n",
       "        text-align: right;\n",
       "    }\n",
       "</style>\n",
       "<table border=\"1\" class=\"dataframe\">\n",
       "  <thead>\n",
       "    <tr style=\"text-align: right;\">\n",
       "      <th>Gender</th>\n",
       "      <th>1</th>\n",
       "      <th>2</th>\n",
       "    </tr>\n",
       "    <tr>\n",
       "      <th>Attrition</th>\n",
       "      <th></th>\n",
       "      <th></th>\n",
       "    </tr>\n",
       "  </thead>\n",
       "  <tbody>\n",
       "    <tr>\n",
       "      <td>No</td>\n",
       "      <td>732</td>\n",
       "      <td>501</td>\n",
       "    </tr>\n",
       "    <tr>\n",
       "      <td>Yes</td>\n",
       "      <td>150</td>\n",
       "      <td>87</td>\n",
       "    </tr>\n",
       "  </tbody>\n",
       "</table>\n",
       "</div>"
      ],
      "text/plain": [
       "Gender       1    2\n",
       "Attrition          \n",
       "No         732  501\n",
       "Yes        150   87"
      ]
     },
     "execution_count": 11,
     "metadata": {},
     "output_type": "execute_result"
    }
   ],
   "source": [
    "ct1 = pd.crosstab(df['Attrition'], df['Gender'])\n",
    "ct1 "
   ]
  },
  {
   "cell_type": "markdown",
   "metadata": {
    "colab_type": "text",
    "id": "r48qBugzCumH"
   },
   "source": [
    "**Chi-square Manual Calculation**"
   ]
  },
  {
   "cell_type": "code",
   "execution_count": 12,
   "metadata": {
    "colab": {
     "base_uri": "https://localhost:8080/",
     "height": 34
    },
    "colab_type": "code",
    "id": "ihrzVKi1GF8R",
    "outputId": "bd28e0be-fc75-4e8c-f553-893017c95ef6"
   },
   "outputs": [
    {
     "data": {
      "text/plain": [
       "0.17006802721088435"
      ]
     },
     "execution_count": 12,
     "metadata": {},
     "output_type": "execute_result"
    }
   ],
   "source": [
    "#Proportion of males who left the organization\n",
    "\n",
    "150/(732+150) "
   ]
  },
  {
   "cell_type": "code",
   "execution_count": 13,
   "metadata": {
    "colab": {
     "base_uri": "https://localhost:8080/",
     "height": 34
    },
    "colab_type": "code",
    "id": "MgBzi1IqJbpw",
    "outputId": "82284770-b1ba-47da-ff32-15368cd2492b"
   },
   "outputs": [
    {
     "data": {
      "text/plain": [
       "0.14795918367346939"
      ]
     },
     "execution_count": 13,
     "metadata": {},
     "output_type": "execute_result"
    }
   ],
   "source": [
    "#Proportion of females who left the organization\n",
    "\n",
    "87/(87+501)"
   ]
  },
  {
   "cell_type": "code",
   "execution_count": 14,
   "metadata": {
    "colab": {},
    "colab_type": "code",
    "id": "amdUdU4uJkr3"
   },
   "outputs": [],
   "source": [
    "#Numerically there is a small difference in proportions between males and females who have left the organization now let's check it statistically\n",
    "\n",
    "from scipy.stats import chi2_contingency \n",
    "from statsmodels.stats.proportion import proportions_ztest"
   ]
  },
  {
   "cell_type": "code",
   "execution_count": 15,
   "metadata": {
    "colab": {
     "base_uri": "https://localhost:8080/",
     "height": 34
    },
    "colab_type": "code",
    "id": "-WbS_zs_OszC",
    "outputId": "0fc24c9d-65fe-4421-cc58-f6869e6ea69c"
   },
   "outputs": [
    {
     "data": {
      "text/plain": [
       "(150, 87)"
      ]
     },
     "execution_count": 15,
     "metadata": {},
     "output_type": "execute_result"
    }
   ],
   "source": [
    "n1 = ct1.iloc[:,0].sum()\n",
    "n2 = ct1.iloc[:,1].sum()\n",
    "x1 = ct1.iloc[1,0]\n",
    "x2 = ct1.iloc[1,1]\n",
    "x1,x2"
   ]
  },
  {
   "cell_type": "code",
   "execution_count": 16,
   "metadata": {
    "colab": {
     "base_uri": "https://localhost:8080/",
     "height": 34
    },
    "colab_type": "code",
    "id": "_iyVwNZNPOGR",
    "outputId": "fab6748f-dcca-4452-d941-bea2caeac584"
   },
   "outputs": [
    {
     "data": {
      "text/plain": [
       "0.16122448979591836"
      ]
     },
     "execution_count": 16,
     "metadata": {},
     "output_type": "execute_result"
    }
   ],
   "source": [
    "pp = (x1+x2)/(n1+n2)\n",
    "pp"
   ]
  },
  {
   "cell_type": "code",
   "execution_count": 17,
   "metadata": {
    "colab": {
     "base_uri": "https://localhost:8080/",
     "height": 34
    },
    "colab_type": "code",
    "id": "s7uisOY5PWG_",
    "outputId": "a9d2a507-a1b2-4340-cf69-986dae4b70a6"
   },
   "outputs": [
    {
     "data": {
      "text/plain": [
       "(0.17006802721088435, 0.14795918367346939)"
      ]
     },
     "execution_count": 17,
     "metadata": {},
     "output_type": "execute_result"
    }
   ],
   "source": [
    "p1 = x1/n1\n",
    "p2 = x2/n2\n",
    "p1,p2"
   ]
  },
  {
   "cell_type": "code",
   "execution_count": null,
   "metadata": {
    "colab": {
     "base_uri": "https://localhost:8080/",
     "height": 34
    },
    "colab_type": "code",
    "id": "4Lx9eOGsPmeK",
    "outputId": "f435a17b-686a-4efd-b389-3f43c1e94d10"
   },
   "outputs": [
    {
     "data": {
      "text/plain": [
       "1.1292547809155016"
      ]
     },
     "execution_count": 49,
     "metadata": {
      "tags": []
     },
     "output_type": "execute_result"
    }
   ],
   "source": [
    "zdata = (p1-p2)/np.sqrt((pp*(1-pp))*((1/n1)+(1/n2)))\n",
    "zdata"
   ]
  },
  {
   "cell_type": "markdown",
   "metadata": {
    "colab_type": "text",
    "id": "Myd202z-Qjj1"
   },
   "source": [
    "Rule of Rejection for Z-Test: 95% confidence, inorder to reject, the zdata > 1.96.\n",
    "\n",
    "In this case:\n",
    "\n",
    "zdata(1.129) < 1.96 (threshold). We will FAIL to reject the null and conclude that Gender is not an appropriate variable for the model. "
   ]
  },
  {
   "cell_type": "code",
   "execution_count": null,
   "metadata": {
    "colab": {},
    "colab_type": "code",
    "id": "e684EWTAC38M"
   },
   "outputs": [],
   "source": []
  },
  {
   "cell_type": "markdown",
   "metadata": {
    "colab_type": "text",
    "id": "aRLDZU4MC4FR"
   },
   "source": [
    "**Chi-Square Python Command calculation**"
   ]
  },
  {
   "cell_type": "markdown",
   "metadata": {
    "colab_type": "text",
    "id": "tm0pwjLcKt6C"
   },
   "source": [
    "How to use the Proportions_Ztest command:\n",
    "\n",
    "Counts and Observations:\n",
    "\n",
    "Counts will contain the numerator ('Yes' values or what you are testing, in this case we are testing number of employees in male and female who quit the organization).\n",
    "\n",
    "Observations: Total observations in each category"
   ]
  },
  {
   "cell_type": "code",
   "execution_count": null,
   "metadata": {
    "colab": {
     "base_uri": "https://localhost:8080/",
     "height": 34
    },
    "colab_type": "code",
    "id": "Mt3coKvSKEn0",
    "outputId": "92fb1580-f27b-4564-fafd-483358523214"
   },
   "outputs": [
    {
     "data": {
      "text/plain": [
       "(1.1292547809155016, 0.2587903704911598)"
      ]
     },
     "execution_count": 50,
     "metadata": {
      "tags": []
     },
     "output_type": "execute_result"
    }
   ],
   "source": [
    "counts = np.array([150,87]) #This includes employees in each catergory 150 (males) and 87 (females) who quit the organization\n",
    "\n",
    "observations = np.array([(732+150), (87+501)]) #Total observations in each category (732+150 = 882 for males) and (87+501 = 588 for females), \n",
    "\n",
    "#CAUTION: in counts we gave 150 (corresponds with male) first followed by 87 (corresponds with female), YOU HAVE TO FOLLOW THIS ORDER IN  Observations, first gave males and then females\n",
    "\n",
    "proportions_ztest(counts, observations)"
   ]
  },
  {
   "cell_type": "markdown",
   "metadata": {
    "colab_type": "text",
    "id": "9sdjTxzaLvqr"
   },
   "source": [
    "P-value (.2587) > alpha (0.05), Since the p-value is higher than our threshold of 0.05. We Fail the Reject the null hypothesis and conclude that the proportion of male and female are same. Which means, 2% numerical difference we found is statistically acceptable and Gender is not an appropriate variable for the model. \n",
    "\n",
    "Also, the Zdata is 1.129 < threshold (1.96), and p-value is .2587 which means there 25.87% distance from Zdata to the rejection threshold. "
   ]
  },
  {
   "cell_type": "code",
   "execution_count": null,
   "metadata": {
    "colab": {},
    "colab_type": "code",
    "id": "Olu7m10kLuGh"
   },
   "outputs": [],
   "source": []
  },
  {
   "cell_type": "code",
   "execution_count": null,
   "metadata": {
    "colab": {},
    "colab_type": "code",
    "id": "MxXlZ_MWKlHK"
   },
   "outputs": [],
   "source": []
  },
  {
   "cell_type": "markdown",
   "metadata": {
    "colab_type": "text",
    "id": "QVPGbGExPoc9"
   },
   "source": [
    "## Chi-Square Test"
   ]
  },
  {
   "cell_type": "code",
   "execution_count": null,
   "metadata": {
    "colab": {},
    "colab_type": "code",
    "id": "97W5affJPp6_"
   },
   "outputs": [],
   "source": [
    "ob = np.array([410,340,250,95,85,70])\n",
    "ex = np.array([404,340,256,101,85,64])"
   ]
  },
  {
   "cell_type": "code",
   "execution_count": null,
   "metadata": {
    "colab": {
     "base_uri": "https://localhost:8080/",
     "height": 34
    },
    "colab_type": "code",
    "id": "qpABYXIFQLRG",
    "outputId": "7a73738f-97fd-42cd-c517-cf420cec5815"
   },
   "outputs": [
    {
     "data": {
      "text/plain": [
       "1.1486695544554455"
      ]
     },
     "execution_count": 52,
     "metadata": {
      "tags": []
     },
     "output_type": "execute_result"
    }
   ],
   "source": [
    "chi_val = (((ob-ex)**2)/ex).sum()\n",
    "chi_val"
   ]
  },
  {
   "cell_type": "code",
   "execution_count": null,
   "metadata": {
    "colab": {
     "base_uri": "https://localhost:8080/",
     "height": 111
    },
    "colab_type": "code",
    "id": "ijzf4wpYQT2u",
    "outputId": "475aae7f-823d-49c4-ffc2-69acb745cc51"
   },
   "outputs": [
    {
     "data": {
      "text/html": [
       "<div>\n",
       "<style scoped>\n",
       "    .dataframe tbody tr th:only-of-type {\n",
       "        vertical-align: middle;\n",
       "    }\n",
       "\n",
       "    .dataframe tbody tr th {\n",
       "        vertical-align: top;\n",
       "    }\n",
       "\n",
       "    .dataframe thead th {\n",
       "        text-align: right;\n",
       "    }\n",
       "</style>\n",
       "<table border=\"1\" class=\"dataframe\">\n",
       "  <thead>\n",
       "    <tr style=\"text-align: right;\">\n",
       "      <th></th>\n",
       "      <th>Healthy</th>\n",
       "      <th>Mild</th>\n",
       "      <th>Severe</th>\n",
       "    </tr>\n",
       "  </thead>\n",
       "  <tbody>\n",
       "    <tr>\n",
       "      <th>Training</th>\n",
       "      <td>410</td>\n",
       "      <td>340</td>\n",
       "      <td>250</td>\n",
       "    </tr>\n",
       "    <tr>\n",
       "      <th>Testing</th>\n",
       "      <td>95</td>\n",
       "      <td>85</td>\n",
       "      <td>70</td>\n",
       "    </tr>\n",
       "  </tbody>\n",
       "</table>\n",
       "</div>"
      ],
      "text/plain": [
       "          Healthy  Mild  Severe\n",
       "Training      410   340     250\n",
       "Testing        95    85      70"
      ]
     },
     "execution_count": 53,
     "metadata": {
      "tags": []
     },
     "output_type": "execute_result"
    }
   ],
   "source": [
    "#Example using built-in function but first we put it in DataFrame\n",
    "#Normally we give the crosstab in the stats test since the dataframe contains the total count we are technically doing that\n",
    "\n",
    "CT = pd.DataFrame(np.array([[410,340,250],[95,85,70]]))\n",
    "CT.columns = ['Healthy', 'Mild', 'Severe']\n",
    "CT.index = ['Training', 'Testing']\n",
    "CT"
   ]
  },
  {
   "cell_type": "code",
   "execution_count": null,
   "metadata": {
    "colab": {},
    "colab_type": "code",
    "id": "0hmaOAiURNKF"
   },
   "outputs": [],
   "source": [
    "from scipy.stats import chi2_contingency "
   ]
  },
  {
   "cell_type": "code",
   "execution_count": null,
   "metadata": {
    "colab": {
     "base_uri": "https://localhost:8080/",
     "height": 51
    },
    "colab_type": "code",
    "id": "Ngg00JiGQ2cB",
    "outputId": "da60477f-f4c2-41a2-be10-5f1d9e7e6e65"
   },
   "outputs": [
    {
     "data": {
      "text/plain": [
       "(1.1486695544554455, 0.5630793174318253, 2, array([[404., 340., 256.],\n",
       "        [101.,  85.,  64.]]))"
      ]
     },
     "execution_count": 55,
     "metadata": {
      "tags": []
     },
     "output_type": "execute_result"
    }
   ],
   "source": [
    "stats.chi2_contingency(CT)"
   ]
  },
  {
   "cell_type": "markdown",
   "metadata": {
    "colab_type": "text",
    "id": "jCeShBbiRYti"
   },
   "source": [
    "First value is Chi-Square value, second is p-value, third is degrees of freedom, and fourth is Expected Count\n",
    "\n",
    "Chi-Square value: 1.14866 (same as our calculation)\n",
    "\n",
    "P-Value: 0.563 (High prob of null hyp, which means the proportion across healthy, mild, and severe is same)\n",
    "\n",
    "Degrees of Freedom: 2 (Column with the Maximum categories - 1)\n",
    "\n",
    "Expected Count\n",
    "\n"
   ]
  },
  {
   "cell_type": "markdown",
   "metadata": {
    "colab_type": "text",
    "id": "2Jak0fn1SMIS"
   },
   "source": [
    "### Department\n",
    "\n",
    "Deparment has multiple categories vs. Attrition (2 categories) so we'll be doing a chi-square test"
   ]
  },
  {
   "cell_type": "code",
   "execution_count": null,
   "metadata": {
    "colab": {
     "base_uri": "https://localhost:8080/",
     "height": 85
    },
    "colab_type": "code",
    "id": "mrEi0UMTRD3Y",
    "outputId": "7618ce89-e4ec-4063-e95c-2eb9bcd2bfc9"
   },
   "outputs": [
    {
     "data": {
      "text/plain": [
       "Research & Development    961\n",
       "Sales                     446\n",
       "Human Resources            63\n",
       "Name: Department, dtype: int64"
      ]
     },
     "execution_count": 56,
     "metadata": {
      "tags": []
     },
     "output_type": "execute_result"
    }
   ],
   "source": [
    "df['Department'].value_counts()"
   ]
  },
  {
   "cell_type": "code",
   "execution_count": null,
   "metadata": {
    "colab": {
     "base_uri": "https://localhost:8080/",
     "height": 142
    },
    "colab_type": "code",
    "id": "rzL38p9oSJHs",
    "outputId": "6477fff4-7040-4f56-927a-20dc9a4ba63b"
   },
   "outputs": [
    {
     "data": {
      "text/html": [
       "<div>\n",
       "<style scoped>\n",
       "    .dataframe tbody tr th:only-of-type {\n",
       "        vertical-align: middle;\n",
       "    }\n",
       "\n",
       "    .dataframe tbody tr th {\n",
       "        vertical-align: top;\n",
       "    }\n",
       "\n",
       "    .dataframe thead th {\n",
       "        text-align: right;\n",
       "    }\n",
       "</style>\n",
       "<table border=\"1\" class=\"dataframe\">\n",
       "  <thead>\n",
       "    <tr style=\"text-align: right;\">\n",
       "      <th>Department</th>\n",
       "      <th>Human Resources</th>\n",
       "      <th>Research &amp; Development</th>\n",
       "      <th>Sales</th>\n",
       "    </tr>\n",
       "    <tr>\n",
       "      <th>Attrition</th>\n",
       "      <th></th>\n",
       "      <th></th>\n",
       "      <th></th>\n",
       "    </tr>\n",
       "  </thead>\n",
       "  <tbody>\n",
       "    <tr>\n",
       "      <th>No</th>\n",
       "      <td>51</td>\n",
       "      <td>828</td>\n",
       "      <td>354</td>\n",
       "    </tr>\n",
       "    <tr>\n",
       "      <th>Yes</th>\n",
       "      <td>12</td>\n",
       "      <td>133</td>\n",
       "      <td>92</td>\n",
       "    </tr>\n",
       "  </tbody>\n",
       "</table>\n",
       "</div>"
      ],
      "text/plain": [
       "Department  Human Resources  Research & Development  Sales\n",
       "Attrition                                                 \n",
       "No                       51                     828    354\n",
       "Yes                      12                     133     92"
      ]
     },
     "execution_count": 57,
     "metadata": {
      "tags": []
     },
     "output_type": "execute_result"
    }
   ],
   "source": [
    "ct_d = pd.crosstab(df['Attrition'], df['Department'])\n",
    "ct_d"
   ]
  },
  {
   "cell_type": "markdown",
   "metadata": {
    "colab_type": "text",
    "id": "eFDw1-cPWYK8"
   },
   "source": [
    "Quick Check for Yes Attrition in Sales, R&D, and HR"
   ]
  },
  {
   "cell_type": "code",
   "execution_count": null,
   "metadata": {
    "colab": {
     "base_uri": "https://localhost:8080/",
     "height": 34
    },
    "colab_type": "code",
    "id": "Sd9Ca03_Uq6W",
    "outputId": "88037c46-0035-42a7-f70e-c390910ffe81"
   },
   "outputs": [
    {
     "data": {
      "text/plain": [
       "446"
      ]
     },
     "execution_count": 58,
     "metadata": {
      "tags": []
     },
     "output_type": "execute_result"
    }
   ],
   "source": [
    "ct_d['Sales'].sum()"
   ]
  },
  {
   "cell_type": "markdown",
   "metadata": {
    "colab_type": "text",
    "id": "jaySbxCFXLVZ"
   },
   "source": [
    "We are saying that 20.6% != 13.8% != 19%, numerically this makes sense but let's check it statistically"
   ]
  },
  {
   "cell_type": "markdown",
   "metadata": {
    "colab_type": "text",
    "id": "SVpmyJjwTqrk"
   },
   "source": [
    "Null and Alternative Hypothesis: \n",
    "\n",
    "Null : Proportion of attrition from across different departments is same. \n",
    "\n",
    "Alternative: Proportion is not same.\n",
    "\n",
    "\n",
    "H0: P(A in HR) = P(A in RD) = P(A in S)\n",
    "\n",
    "H1: P(A in HR) ! P(A in RD) != P(A in S)"
   ]
  },
  {
   "cell_type": "code",
   "execution_count": null,
   "metadata": {
    "colab": {
     "base_uri": "https://localhost:8080/",
     "height": 102
    },
    "colab_type": "code",
    "id": "-f8BhojZTZSr",
    "outputId": "02301f48-796b-4fc5-b690-53a6ada73d80"
   },
   "outputs": [
    {
     "data": {
      "text/plain": [
       "(10.79600732241067,\n",
       " 0.004525606574479633,\n",
       " 2,\n",
       " array([[ 52.84285714, 806.06326531, 374.09387755],\n",
       "        [ 10.15714286, 154.93673469,  71.90612245]]))"
      ]
     },
     "execution_count": 59,
     "metadata": {
      "tags": []
     },
     "output_type": "execute_result"
    }
   ],
   "source": [
    "stats.chi2_contingency(ct_d)"
   ]
  },
  {
   "cell_type": "markdown",
   "metadata": {
    "colab_type": "text",
    "id": "B1cV9gBeUoN5"
   },
   "source": [
    "Interpretation:\n",
    "\n",
    "P-value (0.0045) < alpha (0.05), we can reject the null hypothesis. Claim that proportion of across departments is different. We can also say that Sales department has a higher attrition rate compared to other departments. "
   ]
  },
  {
   "cell_type": "code",
   "execution_count": null,
   "metadata": {
    "colab": {},
    "colab_type": "code",
    "id": "pQ8pruMuTmnB"
   },
   "outputs": [],
   "source": []
  },
  {
   "cell_type": "markdown",
   "metadata": {
    "colab": {},
    "colab_type": "code",
    "id": "FzVUE4mfg4oc"
   },
   "source": [
    "These are the statistical tests for classfication problem. As the target variable is discrete value. \n",
    "\n",
    "We can either perform:\n",
    "\n",
    "1) Two Sample T-Test: One continous vs. Two Discrete values (Checks for Mean difference across two groups)\n",
    "\n",
    "2) Two Sample Proportion Test: Two Discrete values vs. Two Discrete values (Checks for proportion difference across two groups)\n",
    "\n",
    "3) ANOVA Test: One continuous vs. 3 or more discrete values(Checks for Mean difference across multiple groups\n",
    "\n",
    "4) Chi-Square Test: 3 or more discrete values vs. 2 or more discrete values (Checks for proportion difference across multiple groups) "
   ]
  },
  {
   "cell_type": "code",
   "execution_count": null,
   "metadata": {},
   "outputs": [],
   "source": []
  }
 ],
 "metadata": {
  "colab": {
   "collapsed_sections": [],
   "name": "Copy of Statistical Testing Manually.ipynb",
   "provenance": []
  },
  "kernelspec": {
   "display_name": "Python 3",
   "language": "python",
   "name": "python3"
  },
  "language_info": {
   "codemirror_mode": {
    "name": "ipython",
    "version": 3
   },
   "file_extension": ".py",
   "mimetype": "text/x-python",
   "name": "python",
   "nbconvert_exporter": "python",
   "pygments_lexer": "ipython3",
   "version": "3.7.4"
  }
 },
 "nbformat": 4,
 "nbformat_minor": 1
}
