{
  "nbformat": 4,
  "nbformat_minor": 0,
  "metadata": {
    "colab": {
      "name": "Copy of Simple Linear Regression & Classification Problem: Manual and Built-in Calculations.ipynb",
      "provenance": [],
      "collapsed_sections": []
    },
    "kernelspec": {
      "name": "python3",
      "display_name": "Python 3"
    },
    "accelerator": "TPU"
  },
  "cells": [
    {
      "cell_type": "code",
      "metadata": {
        "id": "WsPdsnQAT6Ne",
        "colab_type": "code",
        "colab": {
          "base_uri": "https://localhost:8080/",
          "height": 52
        },
        "outputId": "75685e5f-5628-404d-8071-9d83029686c8"
      },
      "source": [
        "import numpy as np\n",
        "import pandas as pd\n",
        "import matplotlib.pyplot as plt\n",
        "import seaborn as sns\n",
        "from sklearn.linear_model import LinearRegression"
      ],
      "execution_count": null,
      "outputs": [
        {
          "output_type": "stream",
          "text": [
            "/usr/local/lib/python3.6/dist-packages/statsmodels/tools/_testing.py:19: FutureWarning: pandas.util.testing is deprecated. Use the functions in the public API at pandas.testing instead.\n",
            "  import pandas.util.testing as tm\n"
          ],
          "name": "stderr"
        }
      ]
    },
    {
      "cell_type": "code",
      "metadata": {
        "id": "Wktv2rhdVDvC",
        "colab_type": "code",
        "colab": {
          "base_uri": "https://localhost:8080/",
          "height": 311
        },
        "outputId": "a09bf9d4-d53f-4a99-fa2b-c4b5517bf9c8"
      },
      "source": [
        "x = np.array([6.5,6.8,7.0,8.0,8.5,9.8,10.5,5.5,5.0])\n",
        "y = np.array([180,195,210,235,280,350,400,170,160])\n",
        "\n",
        "df = pd.DataFrame({'bmi':x, 'glu':y})\n",
        "df"
      ],
      "execution_count": null,
      "outputs": [
        {
          "output_type": "execute_result",
          "data": {
            "text/html": [
              "<div>\n",
              "<style scoped>\n",
              "    .dataframe tbody tr th:only-of-type {\n",
              "        vertical-align: middle;\n",
              "    }\n",
              "\n",
              "    .dataframe tbody tr th {\n",
              "        vertical-align: top;\n",
              "    }\n",
              "\n",
              "    .dataframe thead th {\n",
              "        text-align: right;\n",
              "    }\n",
              "</style>\n",
              "<table border=\"1\" class=\"dataframe\">\n",
              "  <thead>\n",
              "    <tr style=\"text-align: right;\">\n",
              "      <th></th>\n",
              "      <th>bmi</th>\n",
              "      <th>glu</th>\n",
              "    </tr>\n",
              "  </thead>\n",
              "  <tbody>\n",
              "    <tr>\n",
              "      <th>0</th>\n",
              "      <td>6.5</td>\n",
              "      <td>180</td>\n",
              "    </tr>\n",
              "    <tr>\n",
              "      <th>1</th>\n",
              "      <td>6.8</td>\n",
              "      <td>195</td>\n",
              "    </tr>\n",
              "    <tr>\n",
              "      <th>2</th>\n",
              "      <td>7.0</td>\n",
              "      <td>210</td>\n",
              "    </tr>\n",
              "    <tr>\n",
              "      <th>3</th>\n",
              "      <td>8.0</td>\n",
              "      <td>235</td>\n",
              "    </tr>\n",
              "    <tr>\n",
              "      <th>4</th>\n",
              "      <td>8.5</td>\n",
              "      <td>280</td>\n",
              "    </tr>\n",
              "    <tr>\n",
              "      <th>5</th>\n",
              "      <td>9.8</td>\n",
              "      <td>350</td>\n",
              "    </tr>\n",
              "    <tr>\n",
              "      <th>6</th>\n",
              "      <td>10.5</td>\n",
              "      <td>400</td>\n",
              "    </tr>\n",
              "    <tr>\n",
              "      <th>7</th>\n",
              "      <td>5.5</td>\n",
              "      <td>170</td>\n",
              "    </tr>\n",
              "    <tr>\n",
              "      <th>8</th>\n",
              "      <td>5.0</td>\n",
              "      <td>160</td>\n",
              "    </tr>\n",
              "  </tbody>\n",
              "</table>\n",
              "</div>"
            ],
            "text/plain": [
              "    bmi  glu\n",
              "0   6.5  180\n",
              "1   6.8  195\n",
              "2   7.0  210\n",
              "3   8.0  235\n",
              "4   8.5  280\n",
              "5   9.8  350\n",
              "6  10.5  400\n",
              "7   5.5  170\n",
              "8   5.0  160"
            ]
          },
          "metadata": {
            "tags": []
          },
          "execution_count": 2
        }
      ]
    },
    {
      "cell_type": "code",
      "metadata": {
        "id": "Zx9uPODbXSCu",
        "colab_type": "code",
        "colab": {}
      },
      "source": [
        "X = df['bmi']\n",
        "Y = df['glu']\n",
        "\n",
        "#For ScikitLearn calculations for ex: LinReg, LogReg etc. X should be in 2-d & Y can be in 1-d or 2-d"
      ],
      "execution_count": null,
      "outputs": []
    },
    {
      "cell_type": "code",
      "metadata": {
        "id": "X0gocY9BXSFa",
        "colab_type": "code",
        "colab": {
          "base_uri": "https://localhost:8080/",
          "height": 35
        },
        "outputId": "3a5e587b-5f14-4753-cb1d-9b4cd9495d6e"
      },
      "source": [
        "beta1 = np.sum((X-np.mean(X))*(Y-np.mean(Y)))/np.sum((X-np.mean(X))**2)\n",
        "print(beta1)\n",
        "\n",
        "#Beta1 is Slope"
      ],
      "execution_count": null,
      "outputs": [
        {
          "output_type": "stream",
          "text": [
            "44.20003228931224\n"
          ],
          "name": "stdout"
        }
      ]
    },
    {
      "cell_type": "code",
      "metadata": {
        "id": "VWcfMrAyXSHq",
        "colab_type": "code",
        "colab": {
          "base_uri": "https://localhost:8080/",
          "height": 35
        },
        "outputId": "038ae9f1-7eee-4289-d957-9d4664c9d37e"
      },
      "source": [
        "beta0 = np.mean(Y) - beta1*np.mean(X)\n",
        "print(beta0)\n",
        "\n",
        "#Beta0 is Intercept"
      ],
      "execution_count": null,
      "outputs": [
        {
          "output_type": "stream",
          "text": [
            "-89.76913141750077\n"
          ],
          "name": "stdout"
        }
      ]
    },
    {
      "cell_type": "code",
      "metadata": {
        "id": "hbR3j8Q0YG4d",
        "colab_type": "code",
        "colab": {}
      },
      "source": [
        ""
      ],
      "execution_count": null,
      "outputs": []
    },
    {
      "cell_type": "markdown",
      "metadata": {
        "id": "Pn5_x2d8X8JB",
        "colab_type": "text"
      },
      "source": [
        "**Write the Equation:**\n",
        "\n",
        "Y = -89.769 + 44.20(X)"
      ]
    },
    {
      "cell_type": "code",
      "metadata": {
        "id": "kmPBqTvpXSNW",
        "colab_type": "code",
        "colab": {
          "base_uri": "https://localhost:8080/",
          "height": 195
        },
        "outputId": "68aefc16-0fec-4ea8-bb20-6ec3f0363d11"
      },
      "source": [
        "y_pred = beta0 + beta1*X\n",
        "y_pred\n",
        "\n",
        "#These are the predicted Glucose Values, let's compare with actual values"
      ],
      "execution_count": null,
      "outputs": [
        {
          "output_type": "execute_result",
          "data": {
            "text/plain": [
              "0    197.531078\n",
              "1    210.791088\n",
              "2    219.631095\n",
              "3    263.831127\n",
              "4    285.931143\n",
              "5    343.391185\n",
              "6    374.331208\n",
              "7    153.331046\n",
              "8    131.231030\n",
              "Name: bmi, dtype: float64"
            ]
          },
          "metadata": {
            "tags": []
          },
          "execution_count": 7
        }
      ]
    },
    {
      "cell_type": "code",
      "metadata": {
        "id": "b6Y0IuV6VnUY",
        "colab_type": "code",
        "colab": {}
      },
      "source": [
        ""
      ],
      "execution_count": null,
      "outputs": []
    },
    {
      "cell_type": "code",
      "metadata": {
        "id": "VX-KjdI3Y8wU",
        "colab_type": "code",
        "colab": {
          "base_uri": "https://localhost:8080/",
          "height": 265
        },
        "outputId": "fc120522-ec78-42d4-9143-9bf41d871625"
      },
      "source": [
        "plt.plot(X,Y, '*')\n",
        "plt.plot(X,y_pred) \n",
        "plt.show()\n",
        "\n",
        "# Orange line is the predicted values\n",
        "# Blue points are actual values"
      ],
      "execution_count": null,
      "outputs": [
        {
          "output_type": "display_data",
          "data": {
            "image/png": "[encoded data removed]",
            "text/plain": [
              "<Figure size 432x288 with 1 Axes>"
            ]
          },
          "metadata": {
            "tags": [],
            "needs_background": "light"
          }
        }
      ]
    },
    {
      "cell_type": "code",
      "metadata": {
        "id": "B8N9dyetY81h",
        "colab_type": "code",
        "colab": {
          "base_uri": "https://localhost:8080/",
          "height": 35
        },
        "outputId": "c29437f2-a881-4954-f1dd-fbf99b5abade"
      },
      "source": [
        "#SSE\n",
        "\n",
        "(np.sum((Y-y_pred)**2))"
      ],
      "execution_count": null,
      "outputs": [
        {
          "output_type": "execute_result",
          "data": {
            "text/plain": [
              "3323.9384888601876"
            ]
          },
          "metadata": {
            "tags": []
          },
          "execution_count": 9
        }
      ]
    },
    {
      "cell_type": "code",
      "metadata": {
        "id": "zPDM2dCo3t1_",
        "colab_type": "code",
        "colab": {
          "base_uri": "https://localhost:8080/",
          "height": 35
        },
        "outputId": "6524900f-5bdb-45f0-e9a8-21c19c8faf5a"
      },
      "source": [
        "#MSE\n",
        "\n",
        "(np.sum((Y-y_pred)**2)) / len(X)"
      ],
      "execution_count": null,
      "outputs": [
        {
          "output_type": "execute_result",
          "data": {
            "text/plain": [
              "369.3264987622431"
            ]
          },
          "metadata": {
            "tags": []
          },
          "execution_count": 10
        }
      ]
    },
    {
      "cell_type": "code",
      "metadata": {
        "id": "_hSVG_o_3t4e",
        "colab_type": "code",
        "colab": {
          "base_uri": "https://localhost:8080/",
          "height": 35
        },
        "outputId": "fbbcb101-2634-4cab-ee14-a7407b53fa8a"
      },
      "source": [
        "#RMSE\n",
        "\n",
        "np.sqrt((np.sum((Y-y_pred)**2)) / len(X))"
      ],
      "execution_count": null,
      "outputs": [
        {
          "output_type": "execute_result",
          "data": {
            "text/plain": [
              "19.217869256560235"
            ]
          },
          "metadata": {
            "tags": []
          },
          "execution_count": 11
        }
      ]
    },
    {
      "cell_type": "code",
      "metadata": {
        "id": "gE45zXR53t-9",
        "colab_type": "code",
        "colab": {
          "base_uri": "https://localhost:8080/",
          "height": 265
        },
        "outputId": "b8b4b70f-9684-4366-fe01-928c8eb59c96"
      },
      "source": [
        "plt.plot(Y,y_pred,'*')\n",
        "plt.show()"
      ],
      "execution_count": null,
      "outputs": [
        {
          "output_type": "display_data",
          "data": {
            "image/png": "[encoded data removed]",
            "text/plain": [
              "<Figure size 432x288 with 1 Axes>"
            ]
          },
          "metadata": {
            "tags": [],
            "needs_background": "light"
          }
        }
      ]
    },
    {
      "cell_type": "code",
      "metadata": {
        "id": "zj4FkebN3uD5",
        "colab_type": "code",
        "colab": {
          "base_uri": "https://localhost:8080/",
          "height": 52
        },
        "outputId": "acf935e5-65e0-4678-fd40-0f5915d2a137"
      },
      "source": [
        "#Correlation Coefficient: Measures the strength of relationship between relative movement of two variables\n",
        "\n",
        "r = np.corrcoef(Y,y_pred)\n",
        "print(r)\n",
        "\n",
        "# How much Correlation between the predicted values and the actual values "
      ],
      "execution_count": null,
      "outputs": [
        {
          "output_type": "stream",
          "text": [
            "[[1.         0.97046024]\n",
            " [0.97046024 1.        ]]\n"
          ],
          "name": "stdout"
        }
      ]
    },
    {
      "cell_type": "code",
      "metadata": {
        "id": "l2D4xDJe3t7b",
        "colab_type": "code",
        "colab": {
          "base_uri": "https://localhost:8080/",
          "height": 52
        },
        "outputId": "8818c837-d30b-44d8-a96e-bc54c4f4b899"
      },
      "source": [
        "# R2 can be calculated by simply squaring the correlation coefficient. R2 is Coefficient of determination. \n",
        "\n",
        "r2 = r**2\n",
        "r2"
      ],
      "execution_count": null,
      "outputs": [
        {
          "output_type": "execute_result",
          "data": {
            "text/plain": [
              "array([[1.        , 0.94179308],\n",
              "       [0.94179308, 1.        ]])"
            ]
          },
          "metadata": {
            "tags": []
          },
          "execution_count": 14
        }
      ]
    },
    {
      "cell_type": "code",
      "metadata": {
        "id": "kyniKuvDHUNZ",
        "colab_type": "code",
        "colab": {}
      },
      "source": [
        ""
      ],
      "execution_count": null,
      "outputs": []
    },
    {
      "cell_type": "code",
      "metadata": {
        "id": "QLSrBSRzHUP8",
        "colab_type": "code",
        "colab": {}
      },
      "source": [
        ""
      ],
      "execution_count": null,
      "outputs": []
    },
    {
      "cell_type": "code",
      "metadata": {
        "id": "m09OBQ89HUTM",
        "colab_type": "code",
        "colab": {}
      },
      "source": [
        ""
      ],
      "execution_count": null,
      "outputs": []
    },
    {
      "cell_type": "markdown",
      "metadata": {
        "id": "w-UCHctX5dpv",
        "colab_type": "text"
      },
      "source": [
        "**Using the built-in functions**"
      ]
    },
    {
      "cell_type": "code",
      "metadata": {
        "id": "z2HWh1VcUnhv",
        "colab_type": "code",
        "colab": {
          "base_uri": "https://localhost:8080/",
          "height": 428
        },
        "outputId": "45d259ea-ff3a-464b-fad9-54786bfdd868"
      },
      "source": [
        "X = df['bmi']\n",
        "Y = df['glu']\n",
        "\n",
        "LR = LinearRegression()\n",
        "\n",
        "LR.fit(X,Y)\n",
        "\n",
        "# ERROR IS LEFT INTENTIONALLY: \n",
        "# This case X is one-dimensional and scikit learn will throw as error saying 2D array is expected, \n",
        "# because the data in X is treated as pandas series so simply add an extra [] to fix it"
      ],
      "execution_count": null,
      "outputs": [
        {
          "output_type": "error",
          "ename": "ValueError",
          "evalue": "ignored",
          "traceback": [
            "\u001b[0;31m---------------------------------------------------------------------------\u001b[0m",
            "\u001b[0;31mValueError\u001b[0m                                Traceback (most recent call last)",
            "\u001b[0;32m<ipython-input-27-ac9300ab4511>\u001b[0m in \u001b[0;36m<module>\u001b[0;34m()\u001b[0m\n\u001b[1;32m      4\u001b[0m \u001b[0mLR\u001b[0m \u001b[0;34m=\u001b[0m \u001b[0mLinearRegression\u001b[0m\u001b[0;34m(\u001b[0m\u001b[0;34m)\u001b[0m\u001b[0;34m\u001b[0m\u001b[0;34m\u001b[0m\u001b[0m\n\u001b[1;32m      5\u001b[0m \u001b[0;34m\u001b[0m\u001b[0m\n\u001b[0;32m----> 6\u001b[0;31m \u001b[0mLR\u001b[0m\u001b[0;34m.\u001b[0m\u001b[0mfit\u001b[0m\u001b[0;34m(\u001b[0m\u001b[0mX\u001b[0m\u001b[0;34m,\u001b[0m\u001b[0mY\u001b[0m\u001b[0;34m)\u001b[0m\u001b[0;34m\u001b[0m\u001b[0;34m\u001b[0m\u001b[0m\n\u001b[0m\u001b[1;32m      7\u001b[0m \u001b[0;34m\u001b[0m\u001b[0m\n\u001b[1;32m      8\u001b[0m \u001b[0;31m# ERROR IS LEFT INTENTIONALLY:\u001b[0m\u001b[0;34m\u001b[0m\u001b[0;34m\u001b[0m\u001b[0;34m\u001b[0m\u001b[0m\n",
            "\u001b[0;32m/usr/local/lib/python3.6/dist-packages/sklearn/linear_model/_base.py\u001b[0m in \u001b[0;36mfit\u001b[0;34m(self, X, y, sample_weight)\u001b[0m\n\u001b[1;32m    490\u001b[0m         \u001b[0mn_jobs_\u001b[0m \u001b[0;34m=\u001b[0m \u001b[0mself\u001b[0m\u001b[0;34m.\u001b[0m\u001b[0mn_jobs\u001b[0m\u001b[0;34m\u001b[0m\u001b[0;34m\u001b[0m\u001b[0m\n\u001b[1;32m    491\u001b[0m         X, y = check_X_y(X, y, accept_sparse=['csr', 'csc', 'coo'],\n\u001b[0;32m--> 492\u001b[0;31m                          y_numeric=True, multi_output=True)\n\u001b[0m\u001b[1;32m    493\u001b[0m \u001b[0;34m\u001b[0m\u001b[0m\n\u001b[1;32m    494\u001b[0m         \u001b[0;32mif\u001b[0m \u001b[0msample_weight\u001b[0m \u001b[0;32mis\u001b[0m \u001b[0;32mnot\u001b[0m \u001b[0;32mNone\u001b[0m\u001b[0;34m:\u001b[0m\u001b[0;34m\u001b[0m\u001b[0;34m\u001b[0m\u001b[0m\n",
            "\u001b[0;32m/usr/local/lib/python3.6/dist-packages/sklearn/utils/validation.py\u001b[0m in \u001b[0;36mcheck_X_y\u001b[0;34m(X, y, accept_sparse, accept_large_sparse, dtype, order, copy, force_all_finite, ensure_2d, allow_nd, multi_output, ensure_min_samples, ensure_min_features, y_numeric, warn_on_dtype, estimator)\u001b[0m\n\u001b[1;32m    753\u001b[0m                     \u001b[0mensure_min_features\u001b[0m\u001b[0;34m=\u001b[0m\u001b[0mensure_min_features\u001b[0m\u001b[0;34m,\u001b[0m\u001b[0;34m\u001b[0m\u001b[0;34m\u001b[0m\u001b[0m\n\u001b[1;32m    754\u001b[0m                     \u001b[0mwarn_on_dtype\u001b[0m\u001b[0;34m=\u001b[0m\u001b[0mwarn_on_dtype\u001b[0m\u001b[0;34m,\u001b[0m\u001b[0;34m\u001b[0m\u001b[0;34m\u001b[0m\u001b[0m\n\u001b[0;32m--> 755\u001b[0;31m                     estimator=estimator)\n\u001b[0m\u001b[1;32m    756\u001b[0m     \u001b[0;32mif\u001b[0m \u001b[0mmulti_output\u001b[0m\u001b[0;34m:\u001b[0m\u001b[0;34m\u001b[0m\u001b[0;34m\u001b[0m\u001b[0m\n\u001b[1;32m    757\u001b[0m         y = check_array(y, 'csr', force_all_finite=True, ensure_2d=False,\n",
            "\u001b[0;32m/usr/local/lib/python3.6/dist-packages/sklearn/utils/validation.py\u001b[0m in \u001b[0;36mcheck_array\u001b[0;34m(array, accept_sparse, accept_large_sparse, dtype, order, copy, force_all_finite, ensure_2d, allow_nd, ensure_min_samples, ensure_min_features, warn_on_dtype, estimator)\u001b[0m\n\u001b[1;32m    554\u001b[0m                     \u001b[0;34m\"Reshape your data either using array.reshape(-1, 1) if \"\u001b[0m\u001b[0;34m\u001b[0m\u001b[0;34m\u001b[0m\u001b[0m\n\u001b[1;32m    555\u001b[0m                     \u001b[0;34m\"your data has a single feature or array.reshape(1, -1) \"\u001b[0m\u001b[0;34m\u001b[0m\u001b[0;34m\u001b[0m\u001b[0m\n\u001b[0;32m--> 556\u001b[0;31m                     \"if it contains a single sample.\".format(array))\n\u001b[0m\u001b[1;32m    557\u001b[0m \u001b[0;34m\u001b[0m\u001b[0m\n\u001b[1;32m    558\u001b[0m         \u001b[0;31m# in the future np.flexible dtypes will be handled like object dtypes\u001b[0m\u001b[0;34m\u001b[0m\u001b[0;34m\u001b[0m\u001b[0;34m\u001b[0m\u001b[0m\n",
            "\u001b[0;31mValueError\u001b[0m: Expected 2D array, got 1D array instead:\narray=[ 6.5  6.8  7.   8.   8.5  9.8 10.5  5.5  5. ].\nReshape your data either using array.reshape(-1, 1) if your data has a single feature or array.reshape(1, -1) if it contains a single sample."
          ]
        }
      ]
    },
    {
      "cell_type": "code",
      "metadata": {
        "id": "tAU2AfXmVx-v",
        "colab_type": "code",
        "colab": {}
      },
      "source": [
        ""
      ],
      "execution_count": null,
      "outputs": []
    },
    {
      "cell_type": "code",
      "metadata": {
        "id": "etrzsS0TJfqm",
        "colab_type": "code",
        "colab": {}
      },
      "source": [
        "X = df[['bmi']]\n",
        "Y = df['glu']"
      ],
      "execution_count": null,
      "outputs": []
    },
    {
      "cell_type": "code",
      "metadata": {
        "id": "B16Zq8eLWN98",
        "colab_type": "code",
        "colab": {
          "base_uri": "https://localhost:8080/",
          "height": 35
        },
        "outputId": "ab5651a9-420a-4ddb-b78b-91d6755c9772"
      },
      "source": [
        "LR = LinearRegression()\n",
        "\n",
        "LR.fit(X,Y)\n"
      ],
      "execution_count": null,
      "outputs": [
        {
          "output_type": "execute_result",
          "data": {
            "text/plain": [
              "LinearRegression(copy_X=True, fit_intercept=True, n_jobs=None, normalize=False)"
            ]
          },
          "metadata": {
            "tags": []
          },
          "execution_count": 16
        }
      ]
    },
    {
      "cell_type": "code",
      "metadata": {
        "id": "qJx2gqfgWOAZ",
        "colab_type": "code",
        "colab": {
          "base_uri": "https://localhost:8080/",
          "height": 35
        },
        "outputId": "e3c8ace4-9250-4b76-a3a4-4a42625bfd85"
      },
      "source": [
        "#Coeffcient = Slope\n",
        "\n",
        "LR.coef_"
      ],
      "execution_count": null,
      "outputs": [
        {
          "output_type": "execute_result",
          "data": {
            "text/plain": [
              "array([44.20003229])"
            ]
          },
          "metadata": {
            "tags": []
          },
          "execution_count": 17
        }
      ]
    },
    {
      "cell_type": "code",
      "metadata": {
        "id": "w5kG4Xc1WOCr",
        "colab_type": "code",
        "colab": {
          "base_uri": "https://localhost:8080/",
          "height": 34
        },
        "outputId": "cf2cce3b-24c0-4171-b910-f2d426b61905"
      },
      "source": [
        "#Intercept\n",
        "\n",
        "LR.intercept_"
      ],
      "execution_count": null,
      "outputs": [
        {
          "output_type": "execute_result",
          "data": {
            "text/plain": [
              "-89.76913141750072"
            ]
          },
          "metadata": {
            "tags": []
          },
          "execution_count": 31
        }
      ]
    },
    {
      "cell_type": "code",
      "metadata": {
        "id": "DCfUzAt0WkD0",
        "colab_type": "code",
        "colab": {
          "base_uri": "https://localhost:8080/",
          "height": 68
        },
        "outputId": "6b7d44f1-ffa2-49f5-81f9-86e30871804d"
      },
      "source": [
        "#Predict: Answers match what we have written in Y-Predict\n",
        "\n",
        "LR.predict(X)"
      ],
      "execution_count": null,
      "outputs": [
        {
          "output_type": "execute_result",
          "data": {
            "text/plain": [
              "array([197.53107846, 210.79108815, 219.63109461, 263.8311269 ,\n",
              "       285.93114304, 343.39118502, 374.33120762, 153.33104617,\n",
              "       131.23103003])"
            ]
          },
          "metadata": {
            "tags": []
          },
          "execution_count": 32
        }
      ]
    },
    {
      "cell_type": "code",
      "metadata": {
        "id": "TLtyjNGLXEu1",
        "colab_type": "code",
        "colab": {
          "base_uri": "https://localhost:8080/",
          "height": 34
        },
        "outputId": "c240eef4-4ffa-4904-a83d-00717ed55c6f"
      },
      "source": [
        "#R2\n",
        "\n",
        "LR.score(X,Y)"
      ],
      "execution_count": null,
      "outputs": [
        {
          "output_type": "execute_result",
          "data": {
            "text/plain": [
              "0.9417930802612283"
            ]
          },
          "metadata": {
            "tags": []
          },
          "execution_count": 33
        }
      ]
    },
    {
      "cell_type": "code",
      "metadata": {
        "id": "XWkymJh2-MRJ",
        "colab_type": "code",
        "colab": {}
      },
      "source": [
        ""
      ],
      "execution_count": null,
      "outputs": []
    },
    {
      "cell_type": "code",
      "metadata": {
        "id": "dbChA7qZE2ck",
        "colab_type": "code",
        "colab": {}
      },
      "source": [
        ""
      ],
      "execution_count": null,
      "outputs": []
    },
    {
      "cell_type": "code",
      "metadata": {
        "id": "AcO3aVeA9bIc",
        "colab_type": "code",
        "colab": {}
      },
      "source": [
        ""
      ],
      "execution_count": null,
      "outputs": []
    },
    {
      "cell_type": "markdown",
      "metadata": {
        "id": "BoI0iZe49bjb",
        "colab_type": "text"
      },
      "source": [
        "###**Levene Test**"
      ]
    },
    {
      "cell_type": "markdown",
      "metadata": {
        "id": "Gf5K6oq59qMz",
        "colab_type": "text"
      },
      "source": [
        "We are using the Levene Test to check if BMI is a significant variable to predict Glucose. Since, both of the them continuous numerical variables we will comparing the variance of these variables. Levene Test is done to check if the variance of glucose = variance of bmi. \n",
        "\n",
        "If the p-value is less than 0.05, we can conclude that the variance of bmi and glucose are not same and bmi is a good variable to predict glucose. \n",
        "\n",
        "\n",
        "H0: Var(glu) = Var(bmi)\n",
        "\n",
        "H1: Var(glu) != Var(bmi)\n",
        "\n",
        "Inorder to use bmi to properly predict glucose the variance should not be equal each other. That is how we determine if it is a good independent variable to predict dependent variable."
      ]
    },
    {
      "cell_type": "code",
      "metadata": {
        "id": "2UTpV3BDXEyM",
        "colab_type": "code",
        "colab": {}
      },
      "source": [
        "from scipy.stats import levene"
      ],
      "execution_count": null,
      "outputs": []
    },
    {
      "cell_type": "code",
      "metadata": {
        "id": "oVK1Aa4j6foj",
        "colab_type": "code",
        "colab": {
          "base_uri": "https://localhost:8080/",
          "height": 333
        },
        "outputId": "7eafde07-cfa7-4a6b-b5f8-01ccb45a8fcf"
      },
      "source": [
        "levene(X,Y)\n",
        "\n",
        "# ERROR LEFT INTENTIONALLY:\n",
        "#  For Levene test samples must be in one-dimensional error, simply remove the double [square bracket to single square bracket and run it]"
      ],
      "execution_count": null,
      "outputs": [
        {
          "output_type": "error",
          "ename": "ValueError",
          "evalue": "ignored",
          "traceback": [
            "\u001b[0;31m---------------------------------------------------------------------------\u001b[0m",
            "\u001b[0;31mValueError\u001b[0m                                Traceback (most recent call last)",
            "\u001b[0;32m<ipython-input-35-e66cbd427602>\u001b[0m in \u001b[0;36m<module>\u001b[0;34m()\u001b[0m\n\u001b[0;32m----> 1\u001b[0;31m \u001b[0mlevene\u001b[0m\u001b[0;34m(\u001b[0m\u001b[0mX\u001b[0m\u001b[0;34m,\u001b[0m\u001b[0mY\u001b[0m\u001b[0;34m)\u001b[0m\u001b[0;34m\u001b[0m\u001b[0;34m\u001b[0m\u001b[0m\n\u001b[0m\u001b[1;32m      2\u001b[0m \u001b[0;34m\u001b[0m\u001b[0m\n\u001b[1;32m      3\u001b[0m \u001b[0;31m# ERROR LEFT INTENTIONALLY:\u001b[0m\u001b[0;34m\u001b[0m\u001b[0;34m\u001b[0m\u001b[0;34m\u001b[0m\u001b[0m\n\u001b[1;32m      4\u001b[0m \u001b[0;31m#  For Levene test samples must be in one-dimensional error, simply remove the double [square bracket to single square bracket and run it]\u001b[0m\u001b[0;34m\u001b[0m\u001b[0;34m\u001b[0m\u001b[0;34m\u001b[0m\u001b[0m\n",
            "\u001b[0;32m/usr/local/lib/python3.6/dist-packages/scipy/stats/morestats.py\u001b[0m in \u001b[0;36mlevene\u001b[0;34m(*args, **kwds)\u001b[0m\n\u001b[1;32m   2322\u001b[0m     \u001b[0;32mfor\u001b[0m \u001b[0mj\u001b[0m \u001b[0;32min\u001b[0m \u001b[0mrange\u001b[0m\u001b[0;34m(\u001b[0m\u001b[0mk\u001b[0m\u001b[0;34m)\u001b[0m\u001b[0;34m:\u001b[0m\u001b[0;34m\u001b[0m\u001b[0;34m\u001b[0m\u001b[0m\n\u001b[1;32m   2323\u001b[0m         \u001b[0;32mif\u001b[0m \u001b[0mnp\u001b[0m\u001b[0;34m.\u001b[0m\u001b[0masanyarray\u001b[0m\u001b[0;34m(\u001b[0m\u001b[0margs\u001b[0m\u001b[0;34m[\u001b[0m\u001b[0mj\u001b[0m\u001b[0;34m]\u001b[0m\u001b[0;34m)\u001b[0m\u001b[0;34m.\u001b[0m\u001b[0mndim\u001b[0m \u001b[0;34m>\u001b[0m \u001b[0;36m1\u001b[0m\u001b[0;34m:\u001b[0m\u001b[0;34m\u001b[0m\u001b[0;34m\u001b[0m\u001b[0m\n\u001b[0;32m-> 2324\u001b[0;31m             \u001b[0;32mraise\u001b[0m \u001b[0mValueError\u001b[0m\u001b[0;34m(\u001b[0m\u001b[0;34m'Samples must be one-dimensional.'\u001b[0m\u001b[0;34m)\u001b[0m\u001b[0;34m\u001b[0m\u001b[0;34m\u001b[0m\u001b[0m\n\u001b[0m\u001b[1;32m   2325\u001b[0m \u001b[0;34m\u001b[0m\u001b[0m\n\u001b[1;32m   2326\u001b[0m     \u001b[0mNi\u001b[0m \u001b[0;34m=\u001b[0m \u001b[0mzeros\u001b[0m\u001b[0;34m(\u001b[0m\u001b[0mk\u001b[0m\u001b[0;34m)\u001b[0m\u001b[0;34m\u001b[0m\u001b[0;34m\u001b[0m\u001b[0m\n",
            "\u001b[0;31mValueError\u001b[0m: Samples must be one-dimensional."
          ]
        }
      ]
    },
    {
      "cell_type": "code",
      "metadata": {
        "id": "CeIjJGGF6ibR",
        "colab_type": "code",
        "colab": {}
      },
      "source": [
        "X = df['bmi'] #Single square brackets for 1D data \n",
        "Y = df['glu']"
      ],
      "execution_count": null,
      "outputs": []
    },
    {
      "cell_type": "code",
      "metadata": {
        "id": "IhJ0u58A62w-",
        "colab_type": "code",
        "colab": {
          "base_uri": "https://localhost:8080/",
          "height": 34
        },
        "outputId": "d87a709c-a9b1-417b-913f-7c07fe831693"
      },
      "source": [
        "levene(X,Y)"
      ],
      "execution_count": null,
      "outputs": [
        {
          "output_type": "execute_result",
          "data": {
            "text/plain": [
              "LeveneResult(statistic=8.412133800635052, pvalue=0.010433035669625036)"
            ]
          },
          "metadata": {
            "tags": []
          },
          "execution_count": 37
        }
      ]
    },
    {
      "cell_type": "markdown",
      "metadata": {
        "id": "Pu37uqPW7Zxl",
        "colab_type": "text"
      },
      "source": [
        "\n",
        " **Interpreting the results:**\n",
        "\n",
        "P-value (0.010) < Alpha (0.05), We reject the null hypothesis. Meaning: Variance for glucose and Variance of BMI are not the same. P-value of 0.01 means that the probability that null hypothesis is true around 1% (0.0104), which is obviously below our threshold of alpha 5% (0.05), which represents the amount of error we are ready to accept.   \n"
      ]
    },
    {
      "cell_type": "code",
      "metadata": {
        "id": "-Wg85ShH63JV",
        "colab_type": "code",
        "colab": {}
      },
      "source": [
        ""
      ],
      "execution_count": null,
      "outputs": []
    },
    {
      "cell_type": "code",
      "metadata": {
        "id": "jgkIxD5aNL9W",
        "colab_type": "code",
        "colab": {}
      },
      "source": [
        ""
      ],
      "execution_count": null,
      "outputs": []
    },
    {
      "cell_type": "code",
      "metadata": {
        "id": "YdqV4z72NL35",
        "colab_type": "code",
        "colab": {}
      },
      "source": [
        ""
      ],
      "execution_count": null,
      "outputs": []
    },
    {
      "cell_type": "markdown",
      "metadata": {
        "id": "JpmAA7buNM9Y",
        "colab_type": "text"
      },
      "source": [
        "#**Classfication:**\n",
        "\n",
        "Now let's make this as a classification problem changing the dependent variable from Glucose to (Diabetic or Healthy)\n"
      ]
    },
    {
      "cell_type": "code",
      "metadata": {
        "id": "vkstXaqcNqyB",
        "colab_type": "code",
        "colab": {
          "base_uri": "https://localhost:8080/",
          "height": 311
        },
        "outputId": "b4bcf3c0-4e1d-47e6-fa85-b87a5912ffef"
      },
      "source": [
        "x = np.array([6.5,6.8,7.0,8.0,8.5,9.8,10.5,5.5,5.0])\n",
        "y = np.array([0,0,0,1,1,1,1,0,0])\n",
        "\n",
        "df = pd.DataFrame({'bmi':x, 'glu':y})\n",
        "df"
      ],
      "execution_count": null,
      "outputs": [
        {
          "output_type": "execute_result",
          "data": {
            "text/html": [
              "<div>\n",
              "<style scoped>\n",
              "    .dataframe tbody tr th:only-of-type {\n",
              "        vertical-align: middle;\n",
              "    }\n",
              "\n",
              "    .dataframe tbody tr th {\n",
              "        vertical-align: top;\n",
              "    }\n",
              "\n",
              "    .dataframe thead th {\n",
              "        text-align: right;\n",
              "    }\n",
              "</style>\n",
              "<table border=\"1\" class=\"dataframe\">\n",
              "  <thead>\n",
              "    <tr style=\"text-align: right;\">\n",
              "      <th></th>\n",
              "      <th>bmi</th>\n",
              "      <th>glu</th>\n",
              "    </tr>\n",
              "  </thead>\n",
              "  <tbody>\n",
              "    <tr>\n",
              "      <th>0</th>\n",
              "      <td>6.5</td>\n",
              "      <td>0</td>\n",
              "    </tr>\n",
              "    <tr>\n",
              "      <th>1</th>\n",
              "      <td>6.8</td>\n",
              "      <td>0</td>\n",
              "    </tr>\n",
              "    <tr>\n",
              "      <th>2</th>\n",
              "      <td>7.0</td>\n",
              "      <td>0</td>\n",
              "    </tr>\n",
              "    <tr>\n",
              "      <th>3</th>\n",
              "      <td>8.0</td>\n",
              "      <td>1</td>\n",
              "    </tr>\n",
              "    <tr>\n",
              "      <th>4</th>\n",
              "      <td>8.5</td>\n",
              "      <td>1</td>\n",
              "    </tr>\n",
              "    <tr>\n",
              "      <th>5</th>\n",
              "      <td>9.8</td>\n",
              "      <td>1</td>\n",
              "    </tr>\n",
              "    <tr>\n",
              "      <th>6</th>\n",
              "      <td>10.5</td>\n",
              "      <td>1</td>\n",
              "    </tr>\n",
              "    <tr>\n",
              "      <th>7</th>\n",
              "      <td>5.5</td>\n",
              "      <td>0</td>\n",
              "    </tr>\n",
              "    <tr>\n",
              "      <th>8</th>\n",
              "      <td>5.0</td>\n",
              "      <td>0</td>\n",
              "    </tr>\n",
              "  </tbody>\n",
              "</table>\n",
              "</div>"
            ],
            "text/plain": [
              "    bmi  glu\n",
              "0   6.5    0\n",
              "1   6.8    0\n",
              "2   7.0    0\n",
              "3   8.0    1\n",
              "4   8.5    1\n",
              "5   9.8    1\n",
              "6  10.5    1\n",
              "7   5.5    0\n",
              "8   5.0    0"
            ]
          },
          "metadata": {
            "tags": []
          },
          "execution_count": 18
        }
      ]
    },
    {
      "cell_type": "code",
      "metadata": {
        "id": "VVJqxhWMOA5Z",
        "colab_type": "code",
        "colab": {}
      },
      "source": [
        "X = df['bmi']\n",
        "Y = df['glu']"
      ],
      "execution_count": null,
      "outputs": []
    },
    {
      "cell_type": "code",
      "metadata": {
        "id": "MhmmD8PdV-tZ",
        "colab_type": "code",
        "colab": {}
      },
      "source": [
        ""
      ],
      "execution_count": null,
      "outputs": []
    },
    {
      "cell_type": "markdown",
      "metadata": {
        "id": "BpnMXf-iV-3d",
        "colab_type": "text"
      },
      "source": [
        "Two-sample T-Test\n",
        "\n",
        "Glucose (glu) is the dependent variable in this classification problem which only has 2 discrete values. BMI has continuous numerical values so will be using two-sample T-test. "
      ]
    },
    {
      "cell_type": "code",
      "metadata": {
        "id": "B4JxtiORXaHF",
        "colab_type": "code",
        "colab": {}
      },
      "source": [
        "from scipy.stats import ttest_ind"
      ],
      "execution_count": null,
      "outputs": []
    },
    {
      "cell_type": "markdown",
      "metadata": {
        "id": "SNcMEDbMWknE",
        "colab_type": "text"
      },
      "source": [
        "H0: Mean of bmi in class 0 = Mean of bmi in class 1\n",
        "\n",
        "H1: Mean of bmi in class 0 != Mean of bmi in class 1\n",
        "\n",
        "Test: 2-Sample T-Test"
      ]
    },
    {
      "cell_type": "code",
      "metadata": {
        "id": "Uu0DAH_UXqQX",
        "colab_type": "code",
        "colab": {}
      },
      "source": [
        "gg = df.groupby('glu')\n",
        "g0 = gg.get_group(0)\n",
        "g1 = gg.get_group(1)"
      ],
      "execution_count": null,
      "outputs": []
    },
    {
      "cell_type": "code",
      "metadata": {
        "id": "viF1wVTVXki8",
        "colab_type": "code",
        "colab": {
          "base_uri": "https://localhost:8080/",
          "height": 34
        },
        "outputId": "2ea56b0b-6583-4a17-f19e-d49a03320bd2"
      },
      "source": [
        "ttest_ind(g0['glu'], g1['glu'])"
      ],
      "execution_count": null,
      "outputs": [
        {
          "output_type": "execute_result",
          "data": {
            "text/plain": [
              "Ttest_indResult(statistic=-inf, pvalue=0.0)"
            ]
          },
          "metadata": {
            "tags": []
          },
          "execution_count": 42
        }
      ]
    },
    {
      "cell_type": "markdown",
      "metadata": {
        "id": "VbvwnfduYHs3",
        "colab_type": "text"
      },
      "source": [
        "P-value (0.0) < alpha (0.05), we can reject the null hypothesis and claim that mean of class 0 is not as mean of class 1. BMI is a good indicator to predict whether or not the individual has diabetes."
      ]
    },
    {
      "cell_type": "code",
      "metadata": {
        "id": "A5TKARhQOOTe",
        "colab_type": "code",
        "colab": {
          "base_uri": "https://localhost:8080/",
          "height": 34
        },
        "outputId": "5562a741-2f3e-4ee3-c060-956ba9ef103a"
      },
      "source": [
        "beta1 = np.sum((X-np.mean(X))*(Y-np.mean(Y)))/np.sum((X-np.mean(X))**2)\n",
        "print(beta1)\n",
        "\n",
        "#Beta1 is Slope"
      ],
      "execution_count": null,
      "outputs": [
        {
          "output_type": "stream",
          "text": [
            "0.245398773006135\n"
          ],
          "name": "stdout"
        }
      ]
    },
    {
      "cell_type": "code",
      "metadata": {
        "id": "BE4xniC_OVno",
        "colab_type": "code",
        "colab": {
          "base_uri": "https://localhost:8080/",
          "height": 34
        },
        "outputId": "0112b21c-d274-4312-ea0e-ccbf6bcd1b65"
      },
      "source": [
        "beta0 = np.mean(Y) - beta1*np.mean(X)\n",
        "print(beta0)\n",
        "\n",
        "#Beta0 is Intercept"
      ],
      "execution_count": null,
      "outputs": [
        {
          "output_type": "stream",
          "text": [
            "-1.3987730061349692\n"
          ],
          "name": "stdout"
        }
      ]
    },
    {
      "cell_type": "code",
      "metadata": {
        "id": "OuyBXLodOVji",
        "colab_type": "code",
        "colab": {
          "base_uri": "https://localhost:8080/",
          "height": 187
        },
        "outputId": "bfae8e57-10ca-4f0b-95ce-a4bcb85d1526"
      },
      "source": [
        "y_pred = 1/(1+np.exp(-beta0 - beta1*X))\n",
        "print(y_pred)"
      ],
      "execution_count": null,
      "outputs": [
        {
          "output_type": "stream",
          "text": [
            "0    0.548923\n",
            "1    0.567078\n",
            "2    0.579085\n",
            "3    0.637474\n",
            "4    0.665325\n",
            "5    0.732263\n",
            "6    0.764573\n",
            "7    0.487733\n",
            "8    0.457161\n",
            "Name: bmi, dtype: float64\n"
          ],
          "name": "stdout"
        }
      ]
    },
    {
      "cell_type": "code",
      "metadata": {
        "id": "AIj1Z6A8GB6s",
        "colab_type": "code",
        "colab": {
          "base_uri": "https://localhost:8080/",
          "height": 187
        },
        "outputId": "1f92c7d8-2288-4d42-860b-b8e29d5b14c7"
      },
      "source": [
        "y_pred_prob = 1/(1+np.exp(-y_pred))\n",
        "y_pred_prob\n",
        "\n",
        "#Probablities "
      ],
      "execution_count": null,
      "outputs": [
        {
          "output_type": "execute_result",
          "data": {
            "text/plain": [
              "0    0.633886\n",
              "1    0.638089\n",
              "2    0.640857\n",
              "3    0.654182\n",
              "4    0.660456\n",
              "5    0.675302\n",
              "6    0.682346\n",
              "7    0.619572\n",
              "8    0.612340\n",
              "Name: bmi, dtype: float64"
            ]
          },
          "metadata": {
            "tags": []
          },
          "execution_count": 46
        }
      ]
    },
    {
      "cell_type": "code",
      "metadata": {
        "id": "HN7x5hr-Mv_u",
        "colab_type": "code",
        "colab": {
          "base_uri": "https://localhost:8080/",
          "height": 187
        },
        "outputId": "0b0f9b79-7929-45a0-d464-d219edf2c3cc"
      },
      "source": [
        "np.exp(y_pred)/(1+np.exp(y_pred))"
      ],
      "execution_count": null,
      "outputs": [
        {
          "output_type": "execute_result",
          "data": {
            "text/plain": [
              "0    0.633886\n",
              "1    0.638089\n",
              "2    0.640857\n",
              "3    0.654182\n",
              "4    0.660456\n",
              "5    0.675302\n",
              "6    0.682346\n",
              "7    0.619572\n",
              "8    0.612340\n",
              "Name: bmi, dtype: float64"
            ]
          },
          "metadata": {
            "tags": []
          },
          "execution_count": 47
        }
      ]
    },
    {
      "cell_type": "code",
      "metadata": {
        "id": "v9WpiAaPNIoO",
        "colab_type": "code",
        "colab": {}
      },
      "source": [
        ""
      ],
      "execution_count": null,
      "outputs": []
    },
    {
      "cell_type": "code",
      "metadata": {
        "id": "yLqZsdB4NIq6",
        "colab_type": "code",
        "colab": {}
      },
      "source": [
        ""
      ],
      "execution_count": null,
      "outputs": []
    },
    {
      "cell_type": "markdown",
      "metadata": {
        "id": "WSChvziBGPrY",
        "colab_type": "text"
      },
      "source": [
        "**Threshold**\n",
        "\n",
        "The threshold is determined by the algorithm which depends on probability calculated. For this example let's simply take the mean as threshold. \n",
        "\n",
        "We are simply writing a for loop stating that if the probabiliy is greater than mean value it will classify as 1 if not it will classify as 0"
      ]
    },
    {
      "cell_type": "code",
      "metadata": {
        "id": "j5gr6SUWPWl2",
        "colab_type": "code",
        "colab": {
          "base_uri": "https://localhost:8080/",
          "height": 34
        },
        "outputId": "38a20d7c-7152-4350-b113-9a166d72e84c"
      },
      "source": [
        "glu_class=[]\n",
        "for val in y_pred:\n",
        "  if (val > np.mean(y_pred)):\n",
        "    glu_class.append(1)\n",
        "\n",
        "  else:\n",
        "    glu_class.append(0)\n",
        "\n",
        "print(glu_class)"
      ],
      "execution_count": null,
      "outputs": [
        {
          "output_type": "stream",
          "text": [
            "[0, 0, 0, 1, 1, 1, 1, 0, 0]\n"
          ],
          "name": "stdout"
        }
      ]
    },
    {
      "cell_type": "code",
      "metadata": {
        "id": "0ChCHzBQP7fh",
        "colab_type": "code",
        "colab": {
          "base_uri": "https://localhost:8080/",
          "height": 187
        },
        "outputId": "37659bc3-03d3-4177-9467-1b778faab922"
      },
      "source": [
        "Y"
      ],
      "execution_count": null,
      "outputs": [
        {
          "output_type": "execute_result",
          "data": {
            "text/plain": [
              "0    0\n",
              "1    0\n",
              "2    0\n",
              "3    1\n",
              "4    1\n",
              "5    1\n",
              "6    1\n",
              "7    0\n",
              "8    0\n",
              "Name: glu, dtype: int64"
            ]
          },
          "metadata": {
            "tags": []
          },
          "execution_count": 49
        }
      ]
    },
    {
      "cell_type": "code",
      "metadata": {
        "id": "ayTB0TiBIEab",
        "colab_type": "code",
        "colab": {}
      },
      "source": [
        "from sklearn.linear_model import LogisticRegression"
      ],
      "execution_count": null,
      "outputs": []
    },
    {
      "cell_type": "code",
      "metadata": {
        "id": "-80UxhZTI06g",
        "colab_type": "code",
        "colab": {}
      },
      "source": [
        "X = df[['bmi']]\n",
        "Y = df['glu']"
      ],
      "execution_count": null,
      "outputs": []
    },
    {
      "cell_type": "code",
      "metadata": {
        "id": "tbyFgGojIpll",
        "colab_type": "code",
        "colab": {
          "base_uri": "https://localhost:8080/",
          "height": 102
        },
        "outputId": "847ef17e-787f-4692-9b9e-229082bcf84c"
      },
      "source": [
        "LogR = LogisticRegression()\n",
        "LogR.fit(X,Y)"
      ],
      "execution_count": null,
      "outputs": [
        {
          "output_type": "execute_result",
          "data": {
            "text/plain": [
              "LogisticRegression(C=1.0, class_weight=None, dual=False, fit_intercept=True,\n",
              "                   intercept_scaling=1, l1_ratio=None, max_iter=100,\n",
              "                   multi_class='auto', n_jobs=None, penalty='l2',\n",
              "                   random_state=None, solver='lbfgs', tol=0.0001, verbose=0,\n",
              "                   warm_start=False)"
            ]
          },
          "metadata": {
            "tags": []
          },
          "execution_count": 53
        }
      ]
    },
    {
      "cell_type": "code",
      "metadata": {
        "id": "cjVdZs0DIp1S",
        "colab_type": "code",
        "colab": {
          "base_uri": "https://localhost:8080/",
          "height": 34
        },
        "outputId": "991cfce0-d836-498c-f65f-584c48641ad5"
      },
      "source": [
        "LogR.predict(X)"
      ],
      "execution_count": null,
      "outputs": [
        {
          "output_type": "execute_result",
          "data": {
            "text/plain": [
              "array([0, 0, 0, 1, 1, 1, 1, 0, 0])"
            ]
          },
          "metadata": {
            "tags": []
          },
          "execution_count": 54
        }
      ]
    },
    {
      "cell_type": "markdown",
      "metadata": {
        "id": "W50KUlFkJxyF",
        "colab_type": "text"
      },
      "source": [
        "These are predicted values"
      ]
    },
    {
      "cell_type": "markdown",
      "metadata": {
        "id": "r2sKZ4E-Mwjf",
        "colab_type": "text"
      },
      "source": [
        "**Logisitic Algorithm workings**\n",
        "\n",
        "* .fit (X,Y): The algorithm will calculate B0 and B1 and it will apply the formula and calculate the probabilities \n",
        "* .predict(X): Will fix a threshold based on the calculated probabilities and truncate the probabilty to classes based on that particular threshold"
      ]
    },
    {
      "cell_type": "code",
      "metadata": {
        "id": "MSCVkg46wnyf",
        "colab_type": "code",
        "colab": {}
      },
      "source": [
        ""
      ],
      "execution_count": null,
      "outputs": []
    }
  ]
}
